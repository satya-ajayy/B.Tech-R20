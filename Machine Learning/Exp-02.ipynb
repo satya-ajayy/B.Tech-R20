{
 "cells": [
  {
   "cell_type": "markdown",
   "id": "efd0cdf5",
   "metadata": {},
   "source": [
    "### Experiment-2: \n",
    "For a given set of training data examples stored in a.CSV file, implement and \n",
    "demonstrate the Candidate-Elimination algorithm to output a description of \n",
    "the set of all hypotheses consistent with the training examples."
   ]
  },
  {
   "cell_type": "code",
   "execution_count": 1,
   "id": "18b0e2ed",
   "metadata": {},
   "outputs": [
    {
     "name": "stdout",
     "output_type": "stream",
     "text": [
      "The Given Training Data Set:\n",
      "['Sunny', 'Warm', 'Normal', 'Strong', 'Warm', 'Same', 'Yes']\n",
      "['Sunny', 'Warm', 'High', 'Strong', 'Warm', 'Same', 'Yes']\n",
      "['Rainy', 'Cold', 'High', 'Strong', 'Warm', 'Change', 'No']\n",
      "['Sunny', 'Warm', 'High', 'Strong', 'Cool', 'Change', 'Yes']\n"
     ]
    }
   ],
   "source": [
    "import csv\n",
    "num_attributes = 6\n",
    "\n",
    "print(\"The Given Training Data Set:\")\n",
    "with open('../All Data_Sets/a.csv', 'r') as csvfile:\n",
    "    rows = list(csv.reader(csvfile))\n",
    "\n",
    "for row in rows: print(row)"
   ]
  },
  {
   "cell_type": "code",
   "execution_count": 2,
   "id": "08175b70",
   "metadata": {},
   "outputs": [],
   "source": [
    "def display(s,g,i):\n",
    "    print(f'S{i}:',s)\n",
    "    G = [g[0]]\n",
    "    for lst in g[1:]:\n",
    "        if len(set(lst)) != 1:\n",
    "            G.append(lst)\n",
    "    print(f'G{i}:',G,'\\n')"
   ]
  },
  {
   "cell_type": "code",
   "execution_count": 3,
   "id": "8cd9a481",
   "metadata": {},
   "outputs": [],
   "source": [
    "s = ['⌀'] * num_attributes\n",
    "g=[['?' for _ in range(num_attributes)]\n",
    "               for _ in range(num_attributes)]"
   ]
  },
  {
   "cell_type": "code",
   "execution_count": 4,
   "id": "68878f8c",
   "metadata": {},
   "outputs": [
    {
     "name": "stdout",
     "output_type": "stream",
     "text": [
      "---- Canditate Elimination Algorithm ----\n",
      "S0: ['⌀', '⌀', '⌀', '⌀', '⌀', '⌀']\n",
      "G0: [['?', '?', '?', '?', '?', '?']] \n",
      "\n",
      "S1: ['Sunny', 'Warm', 'Normal', 'Strong', 'Warm', 'Same']\n",
      "G1: [['?', '?', '?', '?', '?', '?']] \n",
      "\n",
      "S2: ['Sunny', 'Warm', '?', 'Strong', 'Warm', 'Same']\n",
      "G2: [['?', '?', '?', '?', '?', '?']] \n",
      "\n",
      "S3: ['Sunny', 'Warm', '?', 'Strong', 'Warm', 'Same']\n",
      "G3: [['Sunny', '?', '?', '?', '?', '?'], ['?', 'Warm', '?', '?', '?', '?'], ['?', '?', '?', '?', '?', 'Same']] \n",
      "\n",
      "S4: ['Sunny', 'Warm', '?', 'Strong', '?', '?']\n",
      "G4: [['Sunny', '?', '?', '?', '?', '?'], ['?', 'Warm', '?', '?', '?', '?']] \n",
      "\n"
     ]
    }
   ],
   "source": [
    "print(\"---- Canditate Elimination Algorithm ----\")\n",
    "display(s,g,0)\n",
    "for i in range(num_attributes):\n",
    "    s[i] = rows[0][i];\n",
    "\n",
    "for row in rows:\n",
    "    if row[-1]==\"Yes\":\n",
    "        for j in range(num_attributes):\n",
    "            if row[j]!=s[j]:\n",
    "                s[j],g[j][j] = '?','?'\n",
    "\n",
    "    if row[-1]==\"No\":\n",
    "        for j in range(num_attributes):\n",
    "            if row[j]!=s[j]:\n",
    "                g[j][j] = s[j]\n",
    "        \n",
    "    display(s,g,rows.index(row)+1)"
   ]
  },
  {
   "cell_type": "code",
   "execution_count": null,
   "id": "8a180e3f",
   "metadata": {},
   "outputs": [],
   "source": []
  }
 ],
 "metadata": {
  "kernelspec": {
   "display_name": "Python 3 (ipykernel)",
   "language": "python",
   "name": "python3"
  },
  "language_info": {
   "codemirror_mode": {
    "name": "ipython",
    "version": 3
   },
   "file_extension": ".py",
   "mimetype": "text/x-python",
   "name": "python",
   "nbconvert_exporter": "python",
   "pygments_lexer": "ipython3",
   "version": "3.10.4"
  }
 },
 "nbformat": 4,
 "nbformat_minor": 5
}
