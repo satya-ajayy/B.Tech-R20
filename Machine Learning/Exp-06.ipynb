{
 "cells": [
  {
   "cell_type": "markdown",
   "id": "f97d2d72",
   "metadata": {},
   "source": [
    "### Experiment-6:\n",
    "Write a program to implement Categorical Encoding, One-hot Encoding"
   ]
  },
  {
   "cell_type": "code",
   "execution_count": 20,
   "id": "5bebdb92",
   "metadata": {},
   "outputs": [],
   "source": [
    "import numpy as np\n",
    "import pandas as pd\n",
    "from sklearn.compose import ColumnTransformer\n",
    "from sklearn.preprocessing import OneHotEncoder,LabelEncoder"
   ]
  },
  {
   "cell_type": "code",
   "execution_count": 24,
   "id": "8fe91a6d",
   "metadata": {},
   "outputs": [
    {
     "name": "stdout",
     "output_type": "stream",
     "text": [
      "The first 5 values of data is :\n",
      "   Car Model  Mileage  Sell Price($)  Age(yrs)\n",
      "0    BMW X5    69000          18000         6\n",
      "1    BMW X5    35000          34000         3\n",
      "2    BMW X5    57000          26100         5\n",
      "3    BMW X5    22500          40000         2\n",
      "4    BMW X5    46000          31500         4\n"
     ]
    }
   ],
   "source": [
    "df = pd.read_csv('../All Data_Sets/cars_data.csv')\n",
    "print(\"The first 5 values of data is :\\n\",df.head())"
   ]
  },
  {
   "cell_type": "code",
   "execution_count": 28,
   "id": "48ee6133",
   "metadata": {},
   "outputs": [
    {
     "name": "stdout",
     "output_type": "stream",
     "text": [
      "The first 5 values of data after One Hot Encoding:\n",
      "      0    1  Mileage  Sell Price($)  Age(yrs)\n",
      "0  1.0  0.0  69000.0        18000.0       6.0\n",
      "1  1.0  0.0  35000.0        34000.0       3.0\n",
      "2  1.0  0.0  57000.0        26100.0       5.0\n",
      "3  1.0  0.0  22500.0        40000.0       2.0\n",
      "4  1.0  0.0  46000.0        31500.0       4.0\n",
      "\n",
      "The first 5 values of data after Label Encoding :\n",
      "   Car Model  Mileage  Sell Price($)  Age(yrs)  Label\n",
      "0    BMW X5    69000          18000         6      1\n",
      "1    BMW X5    35000          34000         3      1\n",
      "2    BMW X5    57000          26100         5      1\n",
      "3    BMW X5    22500          40000         2      1\n",
      "4    BMW X5    46000          31500         4      1\n"
     ]
    }
   ],
   "source": [
    "ct = ColumnTransformer([('ohe', OneHotEncoder(),[0])],remainder='passthrough')\n",
    "X = ct.fit_transform(df)\n",
    "X = X[:, 1:]\n",
    "df = pd.DataFrame(X,columns=['0','1','Mileage', 'Sell Price($)', 'Age(yrs)'])\n",
    "print(\"The first 5 values of data after One Hot Encoding:\\n\",df.head())\n",
    "print()\n",
    "Df = pd.read_csv('../All Data_Sets/cars_data.csv')\n",
    "le = LabelEncoder()\n",
    "Df['Label'] = le.fit_transform(Df['Car Model'])\n",
    "print(\"The first 5 values of data after Label Encoding :\\n\",Df.head())"
   ]
  },
  {
   "cell_type": "code",
   "execution_count": null,
   "id": "b3a29dfe",
   "metadata": {},
   "outputs": [],
   "source": []
  }
 ],
 "metadata": {
  "kernelspec": {
   "display_name": "Python 3 (ipykernel)",
   "language": "python",
   "name": "python3"
  },
  "language_info": {
   "codemirror_mode": {
    "name": "ipython",
    "version": 3
   },
   "file_extension": ".py",
   "mimetype": "text/x-python",
   "name": "python",
   "nbconvert_exporter": "python",
   "pygments_lexer": "ipython3",
   "version": "3.10.4"
  }
 },
 "nbformat": 4,
 "nbformat_minor": 5
}
