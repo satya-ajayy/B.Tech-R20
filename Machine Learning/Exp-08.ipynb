{
 "cells": [
  {
   "cell_type": "markdown",
   "id": "64ec02d2",
   "metadata": {},
   "source": [
    "### Experiment-8: \n",
    "Write a program to implement k-Nearest Neighbor algorithm to classify the iris \n",
    "data set. Print both correct and wrong predictions."
   ]
  },
  {
   "cell_type": "code",
   "execution_count": 18,
   "id": "eded2276",
   "metadata": {},
   "outputs": [],
   "source": [
    "import pandas as pd\n",
    "from sklearn import tree\n",
    "from sklearn.model_selection import train_test_split\n",
    "from sklearn.neighbors import KNeighborsClassifier\n",
    "from sklearn.metrics import confusion_matrix,accuracy_score"
   ]
  },
  {
   "cell_type": "code",
   "execution_count": 2,
   "id": "30cfe98d",
   "metadata": {},
   "outputs": [],
   "source": [
    "df = pd.read_csv('../All Data_Sets/iris.csv')\n",
    "X = df.drop('species',axis=1)\n",
    "y = df['species']"
   ]
  },
  {
   "cell_type": "code",
   "execution_count": 24,
   "id": "807b3f58",
   "metadata": {},
   "outputs": [],
   "source": [
    "X_train,X_test,y_train,y_test= train_test_split(X,y,test_size=0.05,random_state=104)\n",
    "knn= KNeighborsClassifier(n_neighbors=2) \n",
    "knn.fit(X_train, y_train)\n",
    "y_pred= knn.predict(X_test)"
   ]
  },
  {
   "cell_type": "code",
   "execution_count": 25,
   "id": "eb39d9a9",
   "metadata": {},
   "outputs": [
    {
     "name": "stdout",
     "output_type": "stream",
     "text": [
      "setosa setosa --> Correct Prediction\n",
      "setosa setosa --> Correct Prediction\n",
      "setosa setosa --> Correct Prediction\n",
      "versicolor versicolor --> Correct Prediction\n",
      "versicolor virginica --> Wrong Prediction\n",
      "versicolor versicolor --> Correct Prediction\n",
      "versicolor versicolor --> Correct Prediction\n",
      "virginica virginica --> Correct Prediction\n"
     ]
    }
   ],
   "source": [
    "for predicted,correct in zip(y_pred,y_test):\n",
    "    if predicted == correct:\n",
    "        print(predicted, correct, '--> Correct Prediction')\n",
    "    else:\n",
    "        print(predicted, correct, '--> Wrong Prediction')"
   ]
  },
  {
   "cell_type": "code",
   "execution_count": null,
   "id": "d6e68c29",
   "metadata": {},
   "outputs": [],
   "source": []
  }
 ],
 "metadata": {
  "kernelspec": {
   "display_name": "Python 3 (ipykernel)",
   "language": "python",
   "name": "python3"
  },
  "language_info": {
   "codemirror_mode": {
    "name": "ipython",
    "version": 3
   },
   "file_extension": ".py",
   "mimetype": "text/x-python",
   "name": "python",
   "nbconvert_exporter": "python",
   "pygments_lexer": "ipython3",
   "version": "3.10.4"
  }
 },
 "nbformat": 4,
 "nbformat_minor": 5
}
