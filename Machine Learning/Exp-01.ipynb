{
 "cells": [
  {
   "cell_type": "markdown",
   "id": "36aa8648",
   "metadata": {},
   "source": [
    "### Experiment-1: \n",
    "Implement and demonstrate the FIND-S algorithm for finding the most specific \n",
    "hypothesis based on a given set of training data samples. Read the training \n",
    "data from a.CSV file."
   ]
  },
  {
   "cell_type": "code",
   "execution_count": 2,
   "id": "6881d7d9",
   "metadata": {},
   "outputs": [
    {
     "name": "stdout",
     "output_type": "stream",
     "text": [
      "The Given Training Data Set:\n",
      "['Sunny', 'Warm', 'Normal', 'Strong', 'Warm', 'Same', 'Yes']\n",
      "['Sunny', 'Warm', 'High', 'Strong', 'Warm', 'Same', 'Yes']\n",
      "['Rainy', 'Cold', 'High', 'Strong', 'Warm', 'Change', 'No']\n",
      "['Sunny', 'Warm', 'High', 'Strong', 'Cool', 'Change', 'Yes']\n"
     ]
    }
   ],
   "source": [
    "import csv\n",
    "num_attributes = 6\n",
    "\n",
    "print(\"The Given Training Data Set:\")\n",
    "with open('../All Data_Sets/a.csv', 'r') as csvfile:\n",
    "    rows = list(csv.reader(csvfile))\n",
    "\n",
    "for row in rows: print(row)"
   ]
  },
  {
   "cell_type": "code",
   "execution_count": 6,
   "id": "1d3a8886",
   "metadata": {},
   "outputs": [
    {
     "name": "stdout",
     "output_type": "stream",
     "text": [
      "----------- Find-S Algorithm ------------\n",
      "H0: ['⌀', '⌀', '⌀', '⌀', '⌀', '⌀']\n",
      "H1: ['Sunny', 'Warm', 'Normal', 'Strong', 'Warm', 'Same']\n",
      "H2: ['Sunny', 'Warm', '?', 'Strong', 'Warm', 'Same']\n",
      "H3: ['Sunny', 'Warm', '?', 'Strong', 'Warm', 'Same']\n",
      "H4: ['Sunny', 'Warm', '?', 'Strong', '?', '?']\n"
     ]
    }
   ],
   "source": [
    "print(\"----------- Find-S Algorithm ------------\")\n",
    "hypothesis = ['⌀'] * num_attributes\n",
    "print(\"H0:\",hypothesis)\n",
    "for i in range(num_attributes):\n",
    "    hypothesis[i] = rows[0][i];\n",
    "\n",
    "for i in range(len(rows)):\n",
    "    if rows[i][num_attributes]=='Yes':\n",
    "        for j in range(0,num_attributes):\n",
    "            if rows[i][j]!=hypothesis[j]:\n",
    "                hypothesis[j]='?'\n",
    "            else:\n",
    "                hypothesis[j]= rows[i][j]\n",
    "    print(f\"H{i+1}:\",hypothesis)"
   ]
  },
  {
   "cell_type": "code",
   "execution_count": null,
   "id": "35151526",
   "metadata": {},
   "outputs": [],
   "source": []
  }
 ],
 "metadata": {
  "kernelspec": {
   "display_name": "Python 3 (ipykernel)",
   "language": "python",
   "name": "python3"
  },
  "language_info": {
   "codemirror_mode": {
    "name": "ipython",
    "version": 3
   },
   "file_extension": ".py",
   "mimetype": "text/x-python",
   "name": "python",
   "nbconvert_exporter": "python",
   "pygments_lexer": "ipython3",
   "version": "3.10.4"
  }
 },
 "nbformat": 4,
 "nbformat_minor": 5
}
