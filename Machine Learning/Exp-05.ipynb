{
 "cells": [
  {
   "cell_type": "markdown",
   "id": "ae4bf001",
   "metadata": {},
   "source": [
    "### Experiment-5:\n",
    "Develop a program for Bias, Variance, Remove duplicates ,Cross Validation"
   ]
  },
  {
   "cell_type": "markdown",
   "id": "0ab67fba",
   "metadata": {},
   "source": [
    "BIAS, VARIANCE"
   ]
  },
  {
   "cell_type": "code",
   "execution_count": 3,
   "id": "6280d609",
   "metadata": {},
   "outputs": [
    {
     "name": "stdout",
     "output_type": "stream",
     "text": [
      "Bias: 20.744\n",
      "Variance: 1.674\n"
     ]
    }
   ],
   "source": [
    "from pandas import read_csv\n",
    "from sklearn.model_selection import train_test_split\n",
    "from sklearn.linear_model import LinearRegression\n",
    "from mlxtend.evaluate import bias_variance_decomp\n",
    "\n",
    "dataframe = read_csv('../All Data_Sets/housing.csv', header=None)\n",
    "data = dataframe.values\n",
    "X, y = data[:, :-1], data[:, -1]\n",
    "X_train,X_test,y_train,y_test = train_test_split(X,y,test_size=0.33,random_state=1)\n",
    "model = LinearRegression()\n",
    "mse, bias, var = bias_variance_decomp(model, X_train, y_train, X_test, \n",
    "y_test, loss='mse', num_rounds=200, random_seed=1)\n",
    "print('Bias: %.3f' % bias)\n",
    "print('Variance: %.3f' % var)"
   ]
  },
  {
   "cell_type": "markdown",
   "id": "7fdf1d4d",
   "metadata": {},
   "source": [
    "REMOVE DUPLICATES"
   ]
  },
  {
   "cell_type": "code",
   "execution_count": 4,
   "id": "04d42c8a",
   "metadata": {},
   "outputs": [
    {
     "name": "stdout",
     "output_type": "stream",
     "text": [
      "Data With Duplicates:\n",
      "   col1 col2 col3\n",
      "0     1    a    A\n",
      "1     1    a    A\n",
      "2     3    a    B\n",
      "3     4    b    C\n",
      "4     5    c    B\n",
      "5     2    d    D\n",
      "6     2    d    D\n",
      "Data After Removing Duplicates:\n",
      "   col1 col2 col3\n",
      "0     1    a    A\n",
      "2     3    a    B\n",
      "3     4    b    C\n",
      "4     5    c    B\n",
      "5     2    d    D\n"
     ]
    }
   ],
   "source": [
    "import pandas as pd\n",
    "from pandas import Series, DataFrame\n",
    "\n",
    "data_obj = DataFrame({\n",
    " \"col1\":[1,1,3,4,5,2,2],\n",
    " \"col2\":[\"a\",\"a\",\"a\",\"b\",\"c\",\"d\",\"d\"],\n",
    " \"col3\":[\"A\",\"A\",\"B\",\"C\",\"B\",\"D\",\"D\"],\n",
    "})\n",
    "print(\"Data With Duplicates:\")\n",
    "print(data_obj)\n",
    "print(\"Data After Removing Duplicates:\")\n",
    "print(data_obj.drop_duplicates())"
   ]
  },
  {
   "cell_type": "markdown",
   "id": "db74e225",
   "metadata": {},
   "source": [
    "CROSS VALIDATION"
   ]
  },
  {
   "cell_type": "code",
   "execution_count": 2,
   "id": "712cb029",
   "metadata": {},
   "outputs": [],
   "source": [
    "from sklearn import datasets\n",
    "from sklearn.tree import DecisionTreeClassifier\n",
    "from sklearn.model_selection import KFold, cross_val_score"
   ]
  },
  {
   "cell_type": "code",
   "execution_count": 3,
   "id": "0d45d9b9",
   "metadata": {},
   "outputs": [],
   "source": [
    "X, y = datasets.load_iris(return_X_y=True)\n",
    "clf = DecisionTreeClassifier(random_state=42)\n",
    "k_folds = KFold(n_splits = 5)\n",
    "scores = cross_val_score(clf, X, y, cv = k_folds)"
   ]
  },
  {
   "cell_type": "code",
   "execution_count": 6,
   "id": "c6a6acf4",
   "metadata": {},
   "outputs": [
    {
     "name": "stdout",
     "output_type": "stream",
     "text": [
      "Cross Validation Scores:  [1.0, 1.0, 0.8333333333333334, 0.9333333333333333, 0.8]\n",
      "Average CV Score:  0.9133333333333333\n"
     ]
    }
   ],
   "source": [
    "print(\"Cross Validation Scores: \", list(scores))\n",
    "print(\"Average CV Score: \", scores.mean())"
   ]
  },
  {
   "cell_type": "code",
   "execution_count": null,
   "id": "5015a27e",
   "metadata": {},
   "outputs": [],
   "source": []
  }
 ],
 "metadata": {
  "kernelspec": {
   "display_name": "Python 3 (ipykernel)",
   "language": "python",
   "name": "python3"
  },
  "language_info": {
   "codemirror_mode": {
    "name": "ipython",
    "version": 3
   },
   "file_extension": ".py",
   "mimetype": "text/x-python",
   "name": "python",
   "nbconvert_exporter": "python",
   "pygments_lexer": "ipython3",
   "version": "3.9.13"
  }
 },
 "nbformat": 4,
 "nbformat_minor": 5
}
