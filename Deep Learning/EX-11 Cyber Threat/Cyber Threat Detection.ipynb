{
 "cells": [
  {
   "cell_type": "code",
   "execution_count": 13,
   "id": "db1de39e",
   "metadata": {},
   "outputs": [],
   "source": [
    "import numpy as np\n",
    "from sklearn.model_selection import train_test_split\n",
    "from sklearn.metrics import classification_report\n",
    "from tensorflow import keras\n",
    "from tensorflow.keras import layers"
   ]
  },
  {
   "cell_type": "code",
   "execution_count": 14,
   "id": "e4e7d6ba",
   "metadata": {},
   "outputs": [],
   "source": [
    "X = np.random.rand(100, 10, 10, 3)\n",
    "y = np.random.randint(2, size=100)\n",
    "X_train, X_test, y_train, y_test = train_test_split(X, y, test_size=0.2, random_state=101)"
   ]
  },
  {
   "cell_type": "code",
   "execution_count": 15,
   "id": "0159e8c9",
   "metadata": {},
   "outputs": [
    {
     "name": "stdout",
     "output_type": "stream",
     "text": [
      "Epoch 1/10\n",
      "5/5 [==============================] - 2s 112ms/step - loss: 0.7194 - accuracy: 0.4861 - val_loss: 0.6779 - val_accuracy: 0.6250\n",
      "Epoch 2/10\n",
      "5/5 [==============================] - 0s 21ms/step - loss: 0.6917 - accuracy: 0.5139 - val_loss: 0.7205 - val_accuracy: 0.3750\n",
      "Epoch 3/10\n",
      "5/5 [==============================] - 0s 26ms/step - loss: 0.6843 - accuracy: 0.5278 - val_loss: 0.6866 - val_accuracy: 0.7500\n",
      "Epoch 4/10\n",
      "5/5 [==============================] - 0s 28ms/step - loss: 0.6841 - accuracy: 0.5556 - val_loss: 0.6831 - val_accuracy: 0.7500\n",
      "Epoch 5/10\n",
      "5/5 [==============================] - 0s 26ms/step - loss: 0.6575 - accuracy: 0.6944 - val_loss: 0.7185 - val_accuracy: 0.3750\n",
      "Epoch 6/10\n",
      "5/5 [==============================] - 0s 27ms/step - loss: 0.6542 - accuracy: 0.5278 - val_loss: 0.7145 - val_accuracy: 0.3750\n",
      "Epoch 7/10\n",
      "5/5 [==============================] - 0s 34ms/step - loss: 0.6437 - accuracy: 0.5417 - val_loss: 0.7019 - val_accuracy: 0.3750\n",
      "Epoch 8/10\n",
      "5/5 [==============================] - 0s 28ms/step - loss: 0.6295 - accuracy: 0.7917 - val_loss: 0.6635 - val_accuracy: 0.6250\n",
      "Epoch 9/10\n",
      "5/5 [==============================] - 0s 27ms/step - loss: 0.6127 - accuracy: 0.9583 - val_loss: 0.6747 - val_accuracy: 0.7500\n",
      "Epoch 10/10\n",
      "5/5 [==============================] - 0s 26ms/step - loss: 0.6093 - accuracy: 0.6389 - val_loss: 0.6790 - val_accuracy: 0.5000\n"
     ]
    },
    {
     "data": {
      "text/plain": [
       "<keras.src.callbacks.History at 0x1bd79293510>"
      ]
     },
     "execution_count": 15,
     "metadata": {},
     "output_type": "execute_result"
    }
   ],
   "source": [
    "model = keras.Sequential([\n",
    "    layers.Conv2D(32, (3, 3), activation='relu', input_shape=(10, 10, 3)),\n",
    "    layers.MaxPooling2D((2, 2)),\n",
    "    layers.Flatten(),\n",
    "    layers.Dense(64, activation='relu'),\n",
    "    layers.Dense(1, activation='sigmoid')])\n",
    "\n",
    "\n",
    "model.compile(optimizer='adam', loss='binary_crossentropy', metrics=['accuracy'])\n",
    "model.fit(X_train, y_train, epochs=10, batch_size=16, validation_split=0.1)"
   ]
  },
  {
   "cell_type": "code",
   "execution_count": 16,
   "id": "4939d64b",
   "metadata": {},
   "outputs": [
    {
     "name": "stdout",
     "output_type": "stream",
     "text": [
      "1/1 [==============================] - 0s 160ms/step\n",
      "              precision    recall  f1-score   support\n",
      "\n",
      "           0       0.53      0.91      0.67        11\n",
      "           1       0.00      0.00      0.00         9\n",
      "\n",
      "    accuracy                           0.50        20\n",
      "   macro avg       0.26      0.45      0.33        20\n",
      "weighted avg       0.29      0.50      0.37        20\n",
      "\n"
     ]
    }
   ],
   "source": [
    "y_pred = model.predict(X_test)\n",
    "y_pred_binary = [1 if pred >= 0.5 else 0 for pred in y_pred]\n",
    "\n",
    "print(classification_report(y_test, y_pred_binary))"
   ]
  },
  {
   "cell_type": "code",
   "execution_count": 17,
   "id": "fae4483d",
   "metadata": {},
   "outputs": [],
   "source": [
    "def predict_cyber_threat(network_traffic):\n",
    "    prediction = model.predict(np.array([network_traffic]))\n",
    "    return \"Threat Detected\" if prediction[0] >= 0.5 else \"Normal\""
   ]
  },
  {
   "cell_type": "code",
   "execution_count": 18,
   "id": "54b19902",
   "metadata": {},
   "outputs": [
    {
     "name": "stdout",
     "output_type": "stream",
     "text": [
      "1/1 [==============================] - 0s 90ms/step\n",
      "Prediction: Normal\n"
     ]
    }
   ],
   "source": [
    "sample_network_traffic = np.random.rand(10, 10, 3)\n",
    "prediction = predict_cyber_threat(sample_network_traffic)\n",
    "print(f\"Prediction: {prediction}\")"
   ]
  },
  {
   "cell_type": "code",
   "execution_count": null,
   "id": "ad07ebc9",
   "metadata": {},
   "outputs": [],
   "source": []
  }
 ],
 "metadata": {
  "kernelspec": {
   "display_name": "Python 3 (ipykernel)",
   "language": "python",
   "name": "python3"
  },
  "language_info": {
   "codemirror_mode": {
    "name": "ipython",
    "version": 3
   },
   "file_extension": ".py",
   "mimetype": "text/x-python",
   "name": "python",
   "nbconvert_exporter": "python",
   "pygments_lexer": "ipython3",
   "version": "3.11.5"
  }
 },
 "nbformat": 4,
 "nbformat_minor": 5
}
