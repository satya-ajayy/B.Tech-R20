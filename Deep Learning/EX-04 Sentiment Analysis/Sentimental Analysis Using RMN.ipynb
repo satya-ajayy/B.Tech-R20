{
 "cells": [
  {
   "cell_type": "code",
   "execution_count": 5,
   "id": "111f29dc",
   "metadata": {},
   "outputs": [],
   "source": [
    "# pip install torch torchvision numpy\n",
    "# pip install transformers"
   ]
  },
  {
   "cell_type": "code",
   "execution_count": 10,
   "id": "2a0fb4a8",
   "metadata": {},
   "outputs": [],
   "source": [
    "import torch\n",
    "from transformers import BertTokenizer, BertForSequenceClassification\n",
    "from torch.nn.functional import softmax"
   ]
  },
  {
   "cell_type": "code",
   "execution_count": 11,
   "id": "b355620d",
   "metadata": {},
   "outputs": [
    {
     "name": "stderr",
     "output_type": "stream",
     "text": [
      "Some weights of BertForSequenceClassification were not initialized from the model checkpoint at bert-base-uncased and are newly initialized: ['classifier.weight', 'classifier.bias']\n",
      "You should probably TRAIN this model on a down-stream task to be able to use it for predictions and inference.\n"
     ]
    }
   ],
   "source": [
    "model_name = \"bert-base-uncased\"\n",
    "tokenizer = BertTokenizer.from_pretrained(model_name)\n",
    "model = BertForSequenceClassification.from_pretrained(model_name)"
   ]
  },
  {
   "cell_type": "code",
   "execution_count": 8,
   "id": "3cfc78c6",
   "metadata": {},
   "outputs": [],
   "source": [
    "def analyze_sentiment(text):\n",
    "    inputs = tokenizer(text, return_tensors=\"pt\", truncation=True, padding=True, max_length=128)\n",
    "    with torch.no_grad():\n",
    "        outputs = model(**inputs)\n",
    "\n",
    "    logits = outputs.logits\n",
    "    probabilities = softmax(logits, dim=1)\n",
    "    sentiment_label = torch.argmax(probabilities, dim=1).item()\n",
    "    return sentiment_label, probabilities[0]"
   ]
  },
  {
   "cell_type": "code",
   "execution_count": 9,
   "id": "4b0db3ed",
   "metadata": {},
   "outputs": [
    {
     "name": "stdout",
     "output_type": "stream",
     "text": [
      "I am very Happy.\n",
      "Sentiment Label: 1\n",
      "Sentiment Probabilities (Negative, Positive): tensor([0.4011, 0.5989])\n"
     ]
    }
   ],
   "source": [
    "input_text =input()\n",
    "sentiment_label, sentiment_probabilities = analyze_sentiment(input_text)\n",
    "\n",
    "print(\"Sentiment Label:\", sentiment_label)\n",
    "print(\"Sentiment Probabilities (Negative, Positive):\", sentiment_probabilities)"
   ]
  },
  {
   "cell_type": "code",
   "execution_count": null,
   "id": "83b87151",
   "metadata": {},
   "outputs": [],
   "source": []
  }
 ],
 "metadata": {
  "kernelspec": {
   "display_name": "Python 3 (ipykernel)",
   "language": "python",
   "name": "python3"
  },
  "language_info": {
   "codemirror_mode": {
    "name": "ipython",
    "version": 3
   },
   "file_extension": ".py",
   "mimetype": "text/x-python",
   "name": "python",
   "nbconvert_exporter": "python",
   "pygments_lexer": "ipython3",
   "version": "3.11.5"
  }
 },
 "nbformat": 4,
 "nbformat_minor": 5
}
