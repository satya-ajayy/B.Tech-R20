{
 "cells": [
  {
   "cell_type": "markdown",
   "id": "d5427b54",
   "metadata": {},
   "source": [
    "### Exercise - 1(a)"
   ]
  },
  {
   "cell_type": "code",
   "execution_count": 25,
   "id": "12f5ae76",
   "metadata": {},
   "outputs": [
    {
     "name": "stdout",
     "output_type": "stream",
     "text": [
      "Enter any number:21\n",
      "Enter any number:3.56\n",
      "Enter any number:2 + 15j\n",
      "<class 'int'>\n",
      "<class 'float'>\n",
      "<class 'complex'>\n"
     ]
    }
   ],
   "source": [
    "a = eval(input('Enter any number:'))\n",
    "b = eval(input('Enter any number:'))\n",
    "c = eval(input('Enter any number:'))\n",
    "\n",
    "for i in [a,b,c]:\n",
    "    print(type(i))"
   ]
  },
  {
   "cell_type": "markdown",
   "id": "e795f5dd",
   "metadata": {},
   "source": [
    "### Exercise - 1(b)"
   ]
  },
  {
   "cell_type": "code",
   "execution_count": 26,
   "id": "1fd3527f",
   "metadata": {},
   "outputs": [
    {
     "name": "stdout",
     "output_type": "stream",
     "text": [
      "Enter Two Integer Numbers :\n",
      "Enter a:2\n",
      "Enter b:3\n",
      "5 -1 6 0.6666666666666666 2 8 0\n",
      "Enter Two Floating Numbers :\n",
      "Enter a:2.3\n",
      "Enter b:5.6\n",
      "7.8999999999999995 -3.3 12.879999999999999 0.4107142857142857 2.3 106.0903498817264 0.0\n",
      "Enter Two Complex Numbers :\n",
      "Enter a:4j\n",
      "Enter b:2 + 3j\n",
      "(2+7j) (-2+1j) (-12+8j) (0.9230769230769231+0.6153846153846154j)\n"
     ]
    }
   ],
   "source": [
    "print('Enter Two Integer Numbers :')\n",
    "a = eval(input('Enter a:'))\n",
    "b = eval(input('Enter b:'))\n",
    "print(a+b ,a-b, a*b, a/b, a%b, a**b, a//b)\n",
    "\n",
    "print('Enter Two Floating Numbers :')\n",
    "a = eval(input('Enter a:'))\n",
    "b = eval(input('Enter b:'))\n",
    "print(a+b, a-b, a*b, a/b, a%b, a**b, a//b)\n",
    "\n",
    "print('Enter Two Complex Numbers :')\n",
    "a = eval(input('Enter a:'))\n",
    "b = eval(input('Enter b:'))\n",
    "print(a+b, a-b, a*b, a/b)"
   ]
  },
  {
   "cell_type": "markdown",
   "id": "65742a2d",
   "metadata": {},
   "source": [
    "### Exercise - 1(c)"
   ]
  },
  {
   "cell_type": "code",
   "execution_count": 22,
   "id": "b3827734",
   "metadata": {},
   "outputs": [
    {
     "name": "stdout",
     "output_type": "stream",
     "text": [
      "Enter String 1: abcdefghijklm\n",
      "Enter String 2: nopqrstuvwxyz\n",
      "String 1 is abcdefghijklm\n",
      "String 2 is nopqrstuvwxyz\n",
      "abcdefghijklmnopqrstuvwxyz\n",
      "First 5 Alphabets from concatenated string : abcde\n"
     ]
    }
   ],
   "source": [
    "string1 = input('Enter String 1: ')\n",
    "string2 = input('Enter String 2: ')\n",
    "string = string1 + string2\n",
    "print(\"String 1 is\",string1)\n",
    "print(\"String 2 is\",string2)\n",
    "print(string)\n",
    "print('First 5 Alphabets from concatenated string :',string[:5])"
   ]
  },
  {
   "cell_type": "markdown",
   "id": "6e2771a6",
   "metadata": {},
   "source": [
    "### Exercise - 2(a)"
   ]
  },
  {
   "cell_type": "code",
   "execution_count": 31,
   "id": "7be1aafb",
   "metadata": {},
   "outputs": [
    {
     "name": "stdout",
     "output_type": "stream",
     "text": [
      "Mon 08 16:36:32 IST 2022\n"
     ]
    }
   ],
   "source": [
    "from datetime import datetime as dt\n",
    "now = dt.now()\n",
    "print(now.strftime('%a %m %H:%M:%S IST %Y'))"
   ]
  },
  {
   "cell_type": "markdown",
   "id": "f6b28224",
   "metadata": {},
   "source": [
    "### Exercise - 2(b)"
   ]
  },
  {
   "cell_type": "code",
   "execution_count": 33,
   "id": "5ec92af0",
   "metadata": {},
   "outputs": [
    {
     "name": "stdout",
     "output_type": "stream",
     "text": [
      "----MENU-----\n",
      "1.C TO F\n",
      "2.F TO C\n",
      "Enter the Choice : 1\n",
      "Enter the Temperature : -40\n",
      "-40.0\n"
     ]
    }
   ],
   "source": [
    "print(\"----MENU-----\\n1.C TO F\\n2.F TO C\")\n",
    "ch = int(input(\"Enter the Choice : \"))\n",
    "if ch==1:\n",
    "    ct = int(input(\"Enter the Temperature : \"))\n",
    "    ft = ((9/5)*ct)+32\n",
    "    print(ft)\n",
    "elif ch==2:\n",
    "    ft = int(input(\"Enter Temperature : \"))\n",
    "    ct = ((5*ft)-160)/9\n",
    "    print(ct)\n",
    "else:\n",
    "    print(\"Enter Valid Choice \")"
   ]
  },
  {
   "cell_type": "markdown",
   "id": "47fa5058",
   "metadata": {},
   "source": [
    "### Exercise - 2(c)"
   ]
  },
  {
   "cell_type": "code",
   "execution_count": 67,
   "id": "b22061fd",
   "metadata": {},
   "outputs": [
    {
     "name": "stdout",
     "output_type": "stream",
     "text": [
      "Prime Numbers (1-20): 2 3 5 7 11 13 17 19 "
     ]
    }
   ],
   "source": [
    "print('Prime Numbers (1-20): ',end='')\n",
    "for prime in range(2, 20):\n",
    "    if all(prime % i != 0 for i in range(2, prime)):\n",
    "        print(prime, end=' ')"
   ]
  },
  {
   "cell_type": "markdown",
   "id": "3c968b62",
   "metadata": {},
   "source": [
    "### Exercise -3 (a)"
   ]
  },
  {
   "cell_type": "code",
   "execution_count": 1,
   "id": "8c3b4f91",
   "metadata": {},
   "outputs": [],
   "source": [
    "def factorial(n):\n",
    "    assert n >= 0\n",
    "    if n in [0, 1]:\n",
    "        return 1\n",
    "    return n * factorial(n - 1)"
   ]
  },
  {
   "cell_type": "code",
   "execution_count": 20,
   "id": "ed7f8cb0",
   "metadata": {},
   "outputs": [
    {
     "name": "stdout",
     "output_type": "stream",
     "text": [
      "Enter the Number : 6\n",
      "720\n"
     ]
    }
   ],
   "source": [
    "num = int(input(\"Enter the Number : \"))\n",
    "print(factorial(num))"
   ]
  },
  {
   "cell_type": "markdown",
   "id": "95d2903b",
   "metadata": {},
   "source": [
    "### Exercise - 3(b)"
   ]
  },
  {
   "cell_type": "code",
   "execution_count": 18,
   "id": "dd58e9ef",
   "metadata": {},
   "outputs": [
    {
     "name": "stdout",
     "output_type": "stream",
     "text": [
      "Enter side1 for the Triangle : 12\n",
      "Enter side2 for the Triangle : 13\n",
      "Enter side3 for the Triangle : 15\n",
      "It is not a Right Angled Triangle\n"
     ]
    }
   ],
   "source": [
    "import math\n",
    "li = []\n",
    "for i in range(3):\n",
    "    a = int(input(f\"Enter side{i+1} for the Triangle : \"))\n",
    "    li.append(a)\n",
    "li.sort()\n",
    "if li[2] == math.hypot(li[0],li[1]):\n",
    "    print(\"It is a Right Angled Triangle\")\n",
    "else:\n",
    "    print(\"It is not a Right Angled Triangle\")"
   ]
  },
  {
   "cell_type": "markdown",
   "id": "a67127c4",
   "metadata": {},
   "source": [
    "### Exercise - 3(c)"
   ]
  },
  {
   "cell_type": "code",
   "execution_count": 7,
   "id": "f71491b9",
   "metadata": {},
   "outputs": [],
   "source": [
    "def Fibonacci(n):\n",
    "    fib = lambda f: f if f <= 1 else fib(f - 1) + fib(f - 2)\n",
    "    return [fib(i) for i in range(n)]"
   ]
  },
  {
   "cell_type": "code",
   "execution_count": 8,
   "id": "fb8dd5e4",
   "metadata": {},
   "outputs": [
    {
     "name": "stdout",
     "output_type": "stream",
     "text": [
      "Enter no.of Terms:15\n",
      "[0, 1, 1, 2, 3, 5, 8, 13, 21, 34, 55, 89, 144, 233, 377]\n"
     ]
    }
   ],
   "source": [
    "n = int(input('Enter no.of Terms:'))\n",
    "print(Fibonacci(n))"
   ]
  },
  {
   "cell_type": "markdown",
   "id": "29b1ccd9",
   "metadata": {},
   "source": [
    "### Exercise - 4(a)"
   ]
  },
  {
   "cell_type": "code",
   "execution_count": 4,
   "id": "94a0f837",
   "metadata": {},
   "outputs": [
    {
     "name": "stdout",
     "output_type": "stream",
     "text": [
      "Enter 1st File Name : file.txt\n",
      "Enter 2nd File Name : file2.txt\n",
      "Enter The Text To File1:Python is very easy to learn\n",
      "Text Copied SuccessFully\n"
     ]
    }
   ],
   "source": [
    "file1 = input('Enter 1st File Name : ')\n",
    "file2 = input('Enter 2nd File Name : ')\n",
    "text = input('Enter The Text To File1:')\n",
    "f1 = open(file1, 'w')\n",
    "f1.write(text)\n",
    "f1.close()\n",
    "\n",
    "f1 = open(file1, 'r')\n",
    "f2 = open(file2, 'w')\n",
    "f2.write(f1.read())\n",
    "f1.close()\n",
    "f2.close()\n",
    "print('Text Copied SuccessFully')"
   ]
  },
  {
   "cell_type": "markdown",
   "id": "381a8da4",
   "metadata": {},
   "source": [
    "### Exercise - 4(b)"
   ]
  },
  {
   "cell_type": "code",
   "execution_count": 5,
   "id": "14140d52",
   "metadata": {},
   "outputs": [
    {
     "name": "stdout",
     "output_type": "stream",
     "text": [
      "Enter File Name : file.txt\n",
      "['Python', 'easy', 'is', 'learn', 'to', 'very']\n"
     ]
    }
   ],
   "source": [
    "file = input('Enter File Name : ')\n",
    "s = set()\n",
    "with open(file, 'r') as f:\n",
    "    for line in f.readlines():\n",
    "        s.update(set(line.strip().split()))\n",
    "l = list(s)\n",
    "l.sort()\n",
    "print(l)"
   ]
  },
  {
   "cell_type": "markdown",
   "id": "3bf08d20",
   "metadata": {},
   "source": [
    "### Exercise - 4(c)"
   ]
  },
  {
   "cell_type": "code",
   "execution_count": 6,
   "id": "b16ee1b0",
   "metadata": {},
   "outputs": [],
   "source": [
    "class IntToRoman:\n",
    "    def __init__(self):\n",
    "        self.mapping = [(1000,'M'),(900,'CM'),(500,'D'),(400,'CD'),(100,'C'),(90,'XC'),\n",
    "                        (50,'L'),(40,'XL'),(10,'X'),(9,'IX'),(5,'V'),(4,'IV'),(1,'I')]\n",
    "    \n",
    "    def convert(self,num):\n",
    "        roman = []\n",
    "        for i,numeral in self.mapping:\n",
    "            while num >= i:\n",
    "                num -= i\n",
    "                roman.append(numeral)\n",
    "        print(''.join(roman))"
   ]
  },
  {
   "cell_type": "code",
   "execution_count": 7,
   "id": "1ddf43af",
   "metadata": {},
   "outputs": [
    {
     "name": "stdout",
     "output_type": "stream",
     "text": [
      "Enter an Integer Value : 987\n",
      "CMLXXXVII\n"
     ]
    }
   ],
   "source": [
    "n = int(input(\"Enter an Integer Value : \"))\n",
    "InttoRoman().convert(n)"
   ]
  },
  {
   "cell_type": "markdown",
   "id": "569882df",
   "metadata": {},
   "source": [
    "### Exercise - 5(a) "
   ]
  },
  {
   "cell_type": "code",
   "execution_count": 8,
   "id": "d7959b67",
   "metadata": {},
   "outputs": [
    {
     "name": "stdout",
     "output_type": "stream",
     "text": [
      "Enter the Base Value : 2\n",
      "Enter the Power Value : 3\n",
      "The Value is 8\n"
     ]
    }
   ],
   "source": [
    "class Power:\n",
    "    \n",
    "    def __init__(self,x,n):\n",
    "        self.x=x\n",
    "        self.n=n\n",
    "\n",
    "    def power(self):\n",
    "        return pow(self.x,self.n)\n",
    "\n",
    "a = int(input(\"Enter Base Value : \"))\n",
    "b = int(input(\"Enter Power Value : \"))\n",
    "obj1 = Power(a,b)\n",
    "print(f\"The Value is {obj1.power()}\")"
   ]
  },
  {
   "cell_type": "markdown",
   "id": "8492aee0",
   "metadata": {},
   "source": [
    "### Exercise - 5(b)"
   ]
  },
  {
   "cell_type": "code",
   "execution_count": 19,
   "id": "e5bdd81a",
   "metadata": {},
   "outputs": [
    {
     "name": "stdout",
     "output_type": "stream",
     "text": [
      "Enter a String : University college of engineering kakinada\n",
      "Reverse String : kakinada engineering of college University\n"
     ]
    }
   ],
   "source": [
    "class rev_string:\n",
    "    \n",
    "    def __init__(self,string):\n",
    "        self.lst = string.split()\n",
    "        \n",
    "    def reverse(self):\n",
    "        print('Reverse String :',' '.join(self.lst[::-1]))\n",
    "            \n",
    "a = input('Enter a String : ')\n",
    "obj2 = rev_string(a)\n",
    "obj2.reverse()"
   ]
  },
  {
   "cell_type": "markdown",
   "id": "08eac5e2",
   "metadata": {},
   "source": [
    "### Exercise - 6(a)"
   ]
  },
  {
   "cell_type": "code",
   "execution_count": 10,
   "id": "09773cc6",
   "metadata": {},
   "outputs": [
    {
     "name": "stdout",
     "output_type": "stream",
     "text": [
      "Enter a String :UCEK Kakinada\n",
      "{'U': 1, 'C': 1, 'E': 1, 'K': 2, ' ': 1, 'a': 3, 'k': 1, 'i': 1, 'n': 1, 'd': 1}\n"
     ]
    }
   ],
   "source": [
    "a = input('Enter a String :')\n",
    "di = {}\n",
    "for i in a:\n",
    "    if i in di:\n",
    "        di[i] += 1\n",
    "    else:\n",
    "        di[i] = 1\n",
    "print(di)"
   ]
  },
  {
   "cell_type": "markdown",
   "id": "e4d0b726",
   "metadata": {},
   "source": [
    "### Exercise - 6(b)"
   ]
  },
  {
   "cell_type": "code",
   "execution_count": 12,
   "id": "1d7c6e77",
   "metadata": {},
   "outputs": [
    {
     "name": "stdout",
     "output_type": "stream",
     "text": [
      "Enter a String :Jntu Kakinada 533006\n",
      "['Jntu', 'Kakinada', '533006']\n",
      "Jntu Kakinada 533006\n",
      "Jntu,Kakinada,533006\n",
      "Enter a Name : Pavan\n",
      "Pavan's Birth Date is 07-06-2003\n"
     ]
    }
   ],
   "source": [
    "l = list(input('Enter a String :').split(' '))\n",
    "print(l)\n",
    "print(' '.join(l))\n",
    "print(','.join(l))\n",
    "bdays = {'Tae' : {'Birthday':'24-06-2003'},\n",
    "         'Jim' : {'Birthday':'31-12-2002'},\n",
    "         'Pavan' : {'Birthday':'07-06-2003'},\n",
    "}\n",
    "template = '{}\\'s Birth Date is {}'\n",
    "name = input(\"Enter a Name : \")\n",
    "if name in bdays:\n",
    "    print(template.format(name.title(),bdays[name]['Birthday']))"
   ]
  },
  {
   "cell_type": "markdown",
   "id": "b2c08266",
   "metadata": {},
   "source": [
    "### Exercise -7 (a) "
   ]
  },
  {
   "cell_type": "code",
   "execution_count": 14,
   "id": "d67cb4fb",
   "metadata": {},
   "outputs": [
    {
     "name": "stdout",
     "output_type": "stream",
     "text": [
      "Enter Elements of list 1:\n",
      "15\n",
      "18\n",
      "6\n",
      "Enter Elements of list 2:\n",
      "Ajay\n",
      "Jayanth\n",
      "Pavan\n",
      "{15: 'Ajay', 18: 'Jayanth', 6: 'Pavan'}\n"
     ]
    }
   ],
   "source": [
    "l1 = []\n",
    "print('Enter Elements of list 1:')\n",
    "for i in range(3):\n",
    "    x = int(input())\n",
    "    l1.append(x)\n",
    "    \n",
    "l2 = []\n",
    "print('Enter Elements of list 2:')\n",
    "for i in range(3):\n",
    "    x = input()\n",
    "    l2.append(x)\n",
    "\n",
    "d = {}\n",
    "for key,val in zip(l1, l2):\n",
    "    d[key] = val\n",
    "    \n",
    "print(d)"
   ]
  },
  {
   "cell_type": "markdown",
   "id": "8502afdc",
   "metadata": {},
   "source": [
    "### Exercise - 7(b)"
   ]
  },
  {
   "cell_type": "code",
   "execution_count": 39,
   "id": "88f59e76",
   "metadata": {},
   "outputs": [
    {
     "name": "stdout",
     "output_type": "stream",
     "text": [
      "Enter a file Name : Sample File.txt\n",
      "{'P': 1, 'y': 3, 't': 2, 'h': 2, 'o': 1, 'n': 3, ' ': 4, 'a': 4, 's': 3, 'e': 1, 'x': 1}\n"
     ]
    }
   ],
   "source": [
    "filename = input('Enter a file Name : ')\n",
    "d = {}\n",
    "with open(filename, 'r') as f:\n",
    "    for line in f:\n",
    "        for i in line:\n",
    "            if i in d:\n",
    "                d[i] += 1\n",
    "            else:\n",
    "                d[i] = 1\n",
    "print(d)"
   ]
  },
  {
   "cell_type": "markdown",
   "id": "08987357",
   "metadata": {},
   "source": [
    "### Exercise - 8(a)"
   ]
  },
  {
   "cell_type": "code",
   "execution_count": 7,
   "id": "cdb1b044",
   "metadata": {},
   "outputs": [],
   "source": [
    "import math as m\n",
    "from collections import namedtuple\n",
    "\n",
    "def collision(b1,b2):\n",
    "    d = m.dist([b1.x,b1.y],[b2.x,b2.y])\n",
    "    if d <= (b1.r+b2.r):\n",
    "        return True\n",
    "    return False"
   ]
  },
  {
   "cell_type": "code",
   "execution_count": 3,
   "id": "7a43e326",
   "metadata": {},
   "outputs": [
    {
     "name": "stdout",
     "output_type": "stream",
     "text": [
      "Enter x co-ordinate of ball 1 :2\n",
      "Enter y co-ordinate of ball 2 :3\n",
      "Enter radius of ball 1 :5\n"
     ]
    }
   ],
   "source": [
    "x1 = int(input('Enter x co-ordinate of ball 1 :'))\n",
    "y1 = int(input('Enter y co-ordinate of ball 2 :'))\n",
    "r1 = int(input('Enter radius of ball 1 :'))"
   ]
  },
  {
   "cell_type": "code",
   "execution_count": 5,
   "id": "89a95f07",
   "metadata": {},
   "outputs": [
    {
     "name": "stdout",
     "output_type": "stream",
     "text": [
      "Enter x co-ordinate of ball 2 :5\n",
      "Enter y co-ordinate of ball 2 :2\n",
      "Enter radius of ball 2 :1\n"
     ]
    }
   ],
   "source": [
    "x2 = int(input('Enter x co-ordinate of ball 2 :'))\n",
    "y2 = int(input('Enter y co-ordinate of ball 2 :'))\n",
    "r2 = int(input('Enter radius of ball 2 :'))"
   ]
  },
  {
   "cell_type": "code",
   "execution_count": 8,
   "id": "80dbd4cf",
   "metadata": {},
   "outputs": [
    {
     "name": "stdout",
     "output_type": "stream",
     "text": [
      "Balls are colliding\n"
     ]
    }
   ],
   "source": [
    "ball = namedtuple('Ball',['x','y','r'])\n",
    "ball_one = ball(x1, y1, r1)\n",
    "ball_two = ball(x2, y2, r2)\n",
    "if collision(ball_one,ball_two):\n",
    "    print('Balls are colliding')\n",
    "else:\n",
    "    print('Balls are not colliding')"
   ]
  },
  {
   "cell_type": "markdown",
   "id": "b90cb135",
   "metadata": {},
   "source": [
    "### Exercise - 8(b)"
   ]
  },
  {
   "cell_type": "code",
   "execution_count": 15,
   "id": "48a754aa",
   "metadata": {},
   "outputs": [
    {
     "name": "stdout",
     "output_type": "stream",
     "text": [
      "Enter list of elements: 1 2 3 2 1 5 4 3 2\n",
      "Mean : 2.5555555555555554\n",
      "Median : 2\n",
      "Mode : 2\n"
     ]
    }
   ],
   "source": [
    "li = list(map(int, input('Enter list of elements: ').split()))\n",
    "l = len(li)\n",
    "mean = sum(li)/l\n",
    "li.sort()\n",
    "median = li[l//2]\n",
    "mode = max(set(li),key=li.count)\n",
    "print(\"Mean :\",mean)\n",
    "print(\"Median :\",median)\n",
    "print(\"Mode :\",mode)"
   ]
  },
  {
   "cell_type": "markdown",
   "id": "d0a6744b",
   "metadata": {},
   "source": [
    "### Exercise - 9(a)"
   ]
  },
  {
   "cell_type": "code",
   "execution_count": 16,
   "id": "68d4c1c7",
   "metadata": {},
   "outputs": [],
   "source": [
    "def isNearlyEqual(s1,s2):\n",
    "    if abs(len(s1)-len(s2))<=1:\n",
    "        n=min(len(s1),len(s2))\n",
    "        p,q,count=0,0,0\n",
    "        for i in range(0,n):\n",
    "            if s1[i-p]!=s2[i-q]:\n",
    "                count += 1\n",
    "                if (len(s1)>len(s2)):\n",
    "                    q+=1\n",
    "                else:\n",
    "                    p+=1\n",
    "        if(count>1):\n",
    "            return False\n",
    "        return True\n",
    "    else:\n",
    "        return False"
   ]
  },
  {
   "cell_type": "code",
   "execution_count": 17,
   "id": "da198d9d",
   "metadata": {},
   "outputs": [
    {
     "name": "stdout",
     "output_type": "stream",
     "text": [
      "Enter String 1:pav1an1\n",
      "Enter String 2:pavan1\n",
      "True\n"
     ]
    }
   ],
   "source": [
    "s1 = input('Enter String 1:')\n",
    "s2 = input('Enter String 2:')\n",
    "print(isNearlyEqual(s1,s2))"
   ]
  },
  {
   "cell_type": "markdown",
   "id": "d5f3c271",
   "metadata": {},
   "source": [
    "### Exercise - 9(b)"
   ]
  },
  {
   "cell_type": "code",
   "execution_count": 1,
   "id": "678b72f7",
   "metadata": {},
   "outputs": [],
   "source": [
    "def dups(lst):\n",
    "    dup = [i for i in set(lst) if lst.count(i)>1]\n",
    "    print('Duplicate Values in the List are :',*set(dup))"
   ]
  },
  {
   "cell_type": "code",
   "execution_count": 2,
   "id": "c31f2de9",
   "metadata": {},
   "outputs": [
    {
     "name": "stdout",
     "output_type": "stream",
     "text": [
      "Enter list of Values : 1 2 3 4 5 5 2 3\n",
      "Duplicate Values in the List are : 2 3 5\n"
     ]
    }
   ],
   "source": [
    "lst = list(map(int, input('Enter list of Values : ').split()))\n",
    "dups(lst)"
   ]
  },
  {
   "cell_type": "markdown",
   "id": "abd00efb",
   "metadata": {},
   "source": [
    "### Exercise - 9(c)"
   ]
  },
  {
   "cell_type": "code",
   "execution_count": 19,
   "id": "69f435be",
   "metadata": {},
   "outputs": [],
   "source": [
    "def unique(lst):\n",
    "    print('Unique Values :',*set(lst))"
   ]
  },
  {
   "cell_type": "code",
   "execution_count": 20,
   "id": "b88a3757",
   "metadata": {},
   "outputs": [
    {
     "name": "stdout",
     "output_type": "stream",
     "text": [
      "Enter list of Values : 1 1 2 3 4 2 5 6 7 2 1\n",
      "Unique Values : 1 2 3 4 5 6 7\n"
     ]
    }
   ],
   "source": [
    "lst = list(map(int, input('Enter list of Values : ').split()))\n",
    "unique(lst)"
   ]
  },
  {
   "cell_type": "code",
   "execution_count": 43,
   "id": "14e05974",
   "metadata": {},
   "outputs": [],
   "source": [
    "import numpy as np"
   ]
  },
  {
   "cell_type": "markdown",
   "id": "39e84bd6",
   "metadata": {},
   "source": [
    "### Exercise - 10(a)"
   ]
  },
  {
   "cell_type": "code",
   "execution_count": 49,
   "id": "1cff52c5",
   "metadata": {},
   "outputs": [
    {
     "name": "stdout",
     "output_type": "stream",
     "text": [
      "Enter No.of Rows : 2\n",
      "Enter No.of Cols : 2\n",
      "1 2 3 4\n",
      "[[1 2]\n",
      " [3 4]]\n"
     ]
    }
   ],
   "source": [
    "r = int(input('Enter No.of Rows : '))\n",
    "c = int(input('Enter No.of Cols : '))\n",
    "entries = list(map(int, input().split()))\n",
    "matrix = np.matrix(entries).reshape(r, c)\n",
    "print(matrix)"
   ]
  },
  {
   "cell_type": "markdown",
   "id": "bdde73bd",
   "metadata": {},
   "source": [
    "### Exercise - 10(b)"
   ]
  },
  {
   "cell_type": "code",
   "execution_count": 50,
   "id": "37489d87",
   "metadata": {},
   "outputs": [
    {
     "name": "stdout",
     "output_type": "stream",
     "text": [
      "Enter No.of Rows to 1st Matrix : 2\n",
      "Enter No.of Cols to 1st Matrix : 2\n",
      "1 2 3 4\n",
      "Enter No.of Rows to 2nd Matrix : 2 \n",
      "Enter No.of Cols to 2nd Matrix : 2 \n",
      "1 2 3 4\n",
      "The Addition Of Matrices are : \n",
      "[[2 4]\n",
      " [6 8]]\n"
     ]
    }
   ],
   "source": [
    "r = int(input('Enter No.of Rows to 1st Matrix : '))\n",
    "c = int(input('Enter No.of Cols to 1st Matrix : '))\n",
    "entries = list(map(int, input().split()))\n",
    "a = np.matrix(entries).reshape(r, c)\n",
    "r = int(input('Enter No.of Rows to 2nd Matrix : '))\n",
    "c = int(input('Enter No.of Cols to 2nd Matrix : '))\n",
    "entries = list(map(int, input().split()))\n",
    "b = np.matrix(entries).reshape(r, c)\n",
    "print('The Addition Of Matrices are : ')\n",
    "print(a + b)"
   ]
  },
  {
   "cell_type": "markdown",
   "id": "ec9786ba",
   "metadata": {},
   "source": [
    "### Exercise - 10(c)"
   ]
  },
  {
   "cell_type": "code",
   "execution_count": 56,
   "id": "67fe4e4d",
   "metadata": {},
   "outputs": [
    {
     "name": "stdout",
     "output_type": "stream",
     "text": [
      "Enter No.of Rows to 1st Matrix : 2\n",
      "Enter No.of Cols to 1st Matrix : 2\n",
      "1 2 3 4\n",
      "Enter No.of Rows to 2nd Matrix : 2\n",
      "Enter No.of Cols to 2nd Matrix : 2\n",
      "1 1 1 1\n",
      "The Multiplied Matrix is : \n",
      "[[3 3]\n",
      " [7 7]]\n"
     ]
    }
   ],
   "source": [
    "r = int(input('Enter No.of Rows to 1st Matrix : '))\n",
    "c = int(input('Enter No.of Cols to 1st Matrix : '))\n",
    "entries = list(map(int, input().split()))\n",
    "a = np.matrix(entries).reshape(r, c)\n",
    "r = int(input('Enter No.of Rows to 2nd Matrix : '))\n",
    "c = int(input('Enter No.of Cols to 2nd Matrix : '))\n",
    "entries = list(map(int, input().split()))\n",
    "b = np.matrix(entries).reshape(r,c)\n",
    "print('The Multiplied Matrix is : ')\n",
    "print(a * b)"
   ]
  },
  {
   "cell_type": "markdown",
   "id": "ae346b30",
   "metadata": {},
   "source": [
    "### Exercise - 11(a)"
   ]
  },
  {
   "cell_type": "code",
   "execution_count": 20,
   "id": "230637ec",
   "metadata": {},
   "outputs": [
    {
     "data": {
      "text/plain": [
       "'\\nOpen CMD and type\\npip install flask\\npip install requests\\n'"
      ]
     },
     "execution_count": 20,
     "metadata": {},
     "output_type": "execute_result"
    }
   ],
   "source": [
    "'''\n",
    "Open CMD and type\n",
    "pip install flask\n",
    "pip install requests\n",
    "'''"
   ]
  },
  {
   "cell_type": "markdown",
   "id": "c8672199",
   "metadata": {},
   "source": [
    "### Exercise 11(b)"
   ]
  },
  {
   "cell_type": "code",
   "execution_count": 9,
   "id": "57ee3888",
   "metadata": {},
   "outputs": [
    {
     "name": "stdout",
     "output_type": "stream",
     "text": [
      "b'<!DOCTYPE html>\\n<html lang=\"en\" class=\"no-js\">\\n<head>\\n<meta charset=\"utf-8\">\\n<title>Wikipedia</title>\\n<meta name=\"description\" content=\"Wikipedia is a free online encyclopedia, created and edited by volunteers around the world and hosted by the Wikimedia Foundation.\">\\n<script>\\ndocument.documentElement.className = document.documentElement.className.replace( /(^|\\\\s)no-js(\\\\s|$)/, \"$1js-enabled$2\" );\\n</script>\\n<meta name=\"viewport\" content=\"initial-scale=1,user-scalable=yes\">\\n<link rel=\"apple-touch-icon\" href=\"/static/apple-touch/wikipedia.png\">\\n<link rel=\"shortcut icon\" href=\"/static/favicon/wikipedia.ico\">\\n<link rel=\"license\" href=\"//creativecommons.org/licenses/by-sa/3.0/\">\\n<style>\\n.sprite{background-image:linear-gradient(transparent,transparent),url(portal/wikipedia.org/assets/img/sprite-e99844f6.svg);background-repeat:no-repeat;display:inline-block;vertical-align:middle}.svg-Commons-logo_sister{background-position:0 0;width:47px;height:47px}.svg-MediaWiki-logo_sister{background-positi'\n"
     ]
    }
   ],
   "source": [
    "import requests as req\n",
    "res = req.get('https://www.wikipedia.com')\n",
    "print(res.content[:1000])"
   ]
  },
  {
   "cell_type": "markdown",
   "id": "d509d255",
   "metadata": {},
   "source": [
    "### Exercise 11(c)"
   ]
  },
  {
   "cell_type": "code",
   "execution_count": 28,
   "id": "9960f405",
   "metadata": {},
   "outputs": [
    {
     "data": {
      "text/html": [
       "<a href=\"https://www.python.org/\" target=\"_blank\"><button>Click Me</button></a>"
      ],
      "text/plain": [
       "<IPython.core.display.HTML object>"
      ]
     },
     "execution_count": 28,
     "metadata": {},
     "output_type": "execute_result"
    }
   ],
   "source": [
    "from IPython.core.display import HTML\n",
    "HTML('<a href=\"https://www.python.org/\" target=\"_blank\"><button>Click Me</button></a>')"
   ]
  },
  {
   "cell_type": "code",
   "execution_count": 12,
   "id": "ed0326ef",
   "metadata": {
    "scrolled": true
   },
   "outputs": [
    {
     "data": {
      "text/html": [
       "<a href=\"https://www.python.org/\" target='_blank'><button>Click Me</button></a>\n"
      ],
      "text/plain": [
       "<IPython.core.display.HTML object>"
      ]
     },
     "metadata": {},
     "output_type": "display_data"
    }
   ],
   "source": [
    "%%html\n",
    "<a href=\"https://www.python.org/\" target='_blank'><button>Click Me</button></a>"
   ]
  },
  {
   "cell_type": "markdown",
   "id": "10223209",
   "metadata": {},
   "source": [
    "### Exercise 12(a)"
   ]
  },
  {
   "cell_type": "code",
   "execution_count": 1,
   "id": "8f98374f",
   "metadata": {},
   "outputs": [],
   "source": [
    "from tkinter import *\n",
    "\n",
    "\n",
    "def Buttons(val):\n",
    "    global equation_text\n",
    "    if val == '=':\n",
    "        try:\n",
    "            equation_label.set(answer := str(eval(equation_text)))\n",
    "            equation_text = answer\n",
    "        except:\n",
    "            equation_label.set('Syntax Error')\n",
    "    elif val == 'C':\n",
    "        equation_label.set('')\n",
    "        equation_text = ''\n",
    "    elif val == 'D':\n",
    "        equation_label.set(equation_text[:-1])\n",
    "        equation_text = equation_text[:-1]\n",
    "    else:\n",
    "        equation_text = equation_text + val\n",
    "        equation_label.set(equation_text)\n",
    "\n",
    "\n",
    "root = Tk()\n",
    "root.title('CALCULATOR')\n",
    "\n",
    "equation_text = ''\n",
    "equation_label = StringVar()\n",
    "\n",
    "label = Label(textvariable=equation_label, width='20', font=('consolas', 20))\n",
    "label.pack()\n",
    "\n",
    "frame1 = Frame(root)\n",
    "frame1.pack()\n",
    "\n",
    "buttons = [['1', '2', '3', '4', '+'], ['5', '6', '7', '8', '-'],\n",
    "           ['9', '0', '(', ')', '*'], ['.', 'D', 'C', '=', '/']]\n",
    "b = [[0 for _ in range(5)] for _ in range(4)]\n",
    "for row, lst in enumerate(buttons):\n",
    "    for col, value in enumerate(lst):\n",
    "        b[row][col] = Button(frame1, text=value, height=2, width=7, font=35)\n",
    "        b[row][col].configure(command=lambda val=value: Buttons(val))\n",
    "        b[row][col].grid(row=row, column=col)\n",
    "root.mainloop()"
   ]
  },
  {
   "cell_type": "markdown",
   "id": "5da82f6f",
   "metadata": {},
   "source": [
    "### Exersise 12(b)"
   ]
  },
  {
   "cell_type": "code",
   "execution_count": 6,
   "id": "01f136a7",
   "metadata": {},
   "outputs": [],
   "source": [
    "import turtle as t\n",
    "t.speed('fastest')\n",
    "\n",
    "\n",
    "def Ex12bI():\n",
    "    t.pensize(2)\n",
    "    c = ['red', 'light green', 'blue']\n",
    "    for i in range(12):\n",
    "        t.color(c[i % 3])\n",
    "        t.circle(75)\n",
    "        t.right(30)\n",
    "    t.mainloop()\n",
    "\n",
    "\n",
    "def Ex12bII():\n",
    "    for i in range(45):\n",
    "        for _ in range(4):\n",
    "            t.forward(100)\n",
    "            t.right(90)\n",
    "        t.right(8)\n",
    "    t.mainloop()\n",
    "\n",
    "    \n",
    "Ex12bI()"
   ]
  },
  {
   "cell_type": "markdown",
   "id": "d0c1845c",
   "metadata": {},
   "source": [
    "### Exersise 13(a)"
   ]
  },
  {
   "cell_type": "code",
   "execution_count": 51,
   "id": "6f56d314",
   "metadata": {},
   "outputs": [
    {
     "name": "stdout",
     "output_type": "stream",
     "text": [
      "Enter the list of Values : 1 2 3 4\n",
      "Not All Are Even Numbers\n",
      "Do You Want To Test Again (y/n) ? y\n",
      "Enter the list of Values : 4 6 8\n",
      "All Are Even Numbers\n",
      "Do You Want To Test Again (y/n) ? n\n"
     ]
    }
   ],
   "source": [
    "def is_all_even(evens) -> bool:\n",
    "    if all(even % 2 == 0 for even in evens):\n",
    "        return True\n",
    "    return False\n",
    "\n",
    "while 1:\n",
    "    print('Enter the list of Values : ', end='')\n",
    "    lst = list(map(int, input().split()))\n",
    "    res = is_all_even(lst)\n",
    "    if res:\n",
    "        print('All Are Even Numbers')\n",
    "    else:\n",
    "        print('Not All Are Even Numbers')\n",
    "    \n",
    "    val = input('Do You Want To Test Again (y/n) ? ')\n",
    "    if val != 'y':\n",
    "        break"
   ]
  },
  {
   "cell_type": "markdown",
   "id": "917ae8cc",
   "metadata": {},
   "source": [
    "### Exercise 13(b)"
   ]
  },
  {
   "cell_type": "code",
   "execution_count": 52,
   "id": "056c05a6",
   "metadata": {},
   "outputs": [
    {
     "name": "stdout",
     "output_type": "stream",
     "text": [
      "Enter a String : ajay\n",
      "Reversed Word : yaja\n",
      "Do You Want To Test Again (y/n) ? y\n",
      "Enter a String : python\n",
      "Reversed Word : nohtyp\n",
      "Do You Want To Test Again (y/n) ? n\n"
     ]
    }
   ],
   "source": [
    "def reverse_string(string):\n",
    "    return string[::-1]\n",
    "\n",
    "while 1:\n",
    "    s = input('Enter a String : ')\n",
    "    res = reverse_string(s)\n",
    "    print('Reversed Word :', res)\n",
    "    val = input('Do You Want To Test Again (y/n) ? ')\n",
    "    if val != 'y':\n",
    "        break"
   ]
  },
  {
   "cell_type": "markdown",
   "id": "d6d28983",
   "metadata": {},
   "source": [
    "### Exercise 14(a)"
   ]
  },
  {
   "cell_type": "code",
   "execution_count": 10,
   "id": "1f7650af",
   "metadata": {},
   "outputs": [
    {
     "name": "stdout",
     "output_type": "stream",
     "text": [
      "Enter a Expression : 3xyz\n",
      "Req Expression : 3*x*y*z\n"
     ]
    }
   ],
   "source": [
    "from collections import deque\n",
    "req = deque()\n",
    "exp = deque(input('Enter a Expression : '))\n",
    "req.append(exp.popleft())\n",
    "\n",
    "while len(exp) > 0:\n",
    "    a = exp.popleft()\n",
    "    if a.isdigit() and req[-1].isdigit():\n",
    "        req.append(a)\n",
    "    elif a in '(' and req[-1].isalnum():\n",
    "        req.extend(['*', a])\n",
    "    elif a in ')' and req[-1].isalnum() and exp:\n",
    "        req.extend([a, '*'])\n",
    "    elif a.isalnum() and req[-1].isalnum():\n",
    "        req.extend(['*', a])\n",
    "    elif a in '()' and req[-1] in '()':\n",
    "        req.extend(['*', a])\n",
    "    else:\n",
    "        req.append(a)\n",
    "print('Req Expression :', ''.join(req))"
   ]
  },
  {
   "cell_type": "markdown",
   "id": "e02cf135",
   "metadata": {},
   "source": [
    "### Exercise 14(b)"
   ]
  },
  {
   "cell_type": "code",
   "execution_count": 27,
   "id": "8ae8ba33",
   "metadata": {},
   "outputs": [
    {
     "name": "stdout",
     "output_type": "stream",
     "text": [
      "Enter a length in feet: 6\n",
      "1) Convert into inches\n",
      "2) Convert into yards\n",
      "3) Convert into miles\n",
      "4) Convert into millimeters\n",
      "5) Convert into centimeters\n",
      "6) Convert into meters\n",
      "7) Convert into kilometers\n",
      "Enter Your Choice : 7\n",
      "6 feet = 0.002 kilometers\n"
     ]
    }
   ],
   "source": [
    "helper = [[1, 'feets-inches', 12],\n",
    "          [2, 'feets-yards', 0.33333],\n",
    "          [3, 'feets-miles', 0.000189393939],\n",
    "          [4, 'feets-millimeters', 304.8],\n",
    "          [5, 'feets-centimeters', 30.48],\n",
    "          [6, 'feets-meters', 0.3048],\n",
    "          [7, 'feets-kilometers', 0.0003048]]\n",
    "\n",
    "feet = int(input('Enter a length in feet: '))\n",
    "for lst in helper:\n",
    "    print(f\"{lst[0]}) Convert into {lst[1].split('-')[1]}\")\n",
    "choice = int(input('Enter Your Choice : '))\n",
    "temp1 = feet*helper[choice - 1][2]\n",
    "temp2 = helper[choice - 1][1].split('-')[1]\n",
    "print(f'{feet} feet = {round(temp1,3)} {temp2}')"
   ]
  },
  {
   "cell_type": "markdown",
   "id": "f4dae068",
   "metadata": {},
   "source": [
    "### Exercise 15(a)"
   ]
  },
  {
   "cell_type": "code",
   "execution_count": 10,
   "id": "7d2ee9dc",
   "metadata": {},
   "outputs": [
    {
     "name": "stdout",
     "output_type": "stream",
     "text": [
      "Enter a File Name :file.txt\n",
      "abc@gmail.com;ab123@gmail.com\n"
     ]
    }
   ],
   "source": [
    "filename = input('Enter a File Name :')\n",
    "with open(filename, 'r') as f:\n",
    "    lines = [line.strip() for line in f.readlines()]\n",
    "    s = ';'.join(lines)\n",
    "print(s)"
   ]
  },
  {
   "cell_type": "markdown",
   "id": "bd97eb0e",
   "metadata": {},
   "source": [
    "### Exercise 15(b)"
   ]
  },
  {
   "cell_type": "code",
   "execution_count": 20,
   "id": "b49773b8",
   "metadata": {},
   "outputs": [
    {
     "name": "stdout",
     "output_type": "stream",
     "text": [
      "Enter 1st File Name :file4.txt\n",
      "Enter 2nd File Name :file5.txt\n"
     ]
    }
   ],
   "source": [
    "filename1 = input('Enter 1st File Name :')\n",
    "filename2 = input('Enter 2nd File Name :')"
   ]
  },
  {
   "cell_type": "code",
   "execution_count": 4,
   "id": "04a8861a",
   "metadata": {},
   "outputs": [
    {
     "name": "stdout",
     "output_type": "stream",
     "text": [
      "Converted SuccessFully\n"
     ]
    }
   ],
   "source": [
    "converter = lambda c_temp: (9 / 5) * c_temp + 32\n",
    "f1 = open(filename1, 'r')\n",
    "f2 = open(filename2, 'w')\n",
    "for line in f1.readlines():\n",
    "    f2.write(str(converter(int(line))) + '\\n')\n",
    "f1.close()\n",
    "f2.close()\n",
    "print('Converted SuccessFully')"
   ]
  },
  {
   "cell_type": "code",
   "execution_count": null,
   "id": "e8b4874a",
   "metadata": {},
   "outputs": [],
   "source": []
  }
 ],
 "metadata": {
  "kernelspec": {
   "display_name": "Python 3 (ipykernel)",
   "language": "python",
   "name": "python3"
  },
  "language_info": {
   "codemirror_mode": {
    "name": "ipython",
    "version": 3
   },
   "file_extension": ".py",
   "mimetype": "text/x-python",
   "name": "python",
   "nbconvert_exporter": "python",
   "pygments_lexer": "ipython3",
   "version": "3.10.4"
  }
 },
 "nbformat": 4,
 "nbformat_minor": 5
}
