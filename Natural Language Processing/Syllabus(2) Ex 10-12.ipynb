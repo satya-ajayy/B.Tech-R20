{
 "cells": [
  {
   "cell_type": "markdown",
   "id": "2bbc631a",
   "metadata": {},
   "source": [
    "### Imports"
   ]
  },
  {
   "cell_type": "code",
   "execution_count": 1,
   "id": "65274805",
   "metadata": {},
   "outputs": [
    {
     "name": "stdout",
     "output_type": "stream",
     "text": [
      "*** Introductory Examples for the NLTK Book ***\n",
      "Loading text1, ..., text9 and sent1, ..., sent9\n",
      "Type the name of the text or sentence to view it.\n",
      "Type: 'texts()' or 'sents()' to list the materials.\n",
      "text1: Moby Dick by Herman Melville 1851\n",
      "text2: Sense and Sensibility by Jane Austen 1811\n",
      "text3: The Book of Genesis\n",
      "text4: Inaugural Address Corpus\n",
      "text5: Chat Corpus\n",
      "text6: Monty Python and the Holy Grail\n",
      "text7: Wall Street Journal\n",
      "text8: Personals Corpus\n",
      "text9: The Man Who Was Thursday by G . K . Chesterton 1908\n"
     ]
    },
    {
     "data": {
      "text/plain": [
       "<Text: Chat Corpus>"
      ]
     },
     "execution_count": 1,
     "metadata": {},
     "output_type": "execute_result"
    }
   ],
   "source": [
    "import nltk\n",
    "from nltk.book import *\n",
    "text5"
   ]
  },
  {
   "cell_type": "markdown",
   "id": "46768bd9",
   "metadata": {},
   "source": [
    "### Experiment 10"
   ]
  },
  {
   "cell_type": "code",
   "execution_count": 2,
   "id": "59055490",
   "metadata": {},
   "outputs": [
    {
     "data": {
      "text/plain": [
       "FreqDist({'.': 1268, 'JOIN': 1021, 'PART': 1016, '?': 737, 'lol': 704, 'to': 658, 'i': 648, 'the': 646, 'you': 635, ',': 596, ...})"
      ]
     },
     "execution_count": 2,
     "metadata": {},
     "output_type": "execute_result"
    }
   ],
   "source": [
    "dic = text5.vocab()\n",
    "dic"
   ]
  },
  {
   "cell_type": "code",
   "execution_count": 3,
   "id": "be649336",
   "metadata": {},
   "outputs": [
    {
     "data": {
      "text/plain": [
       "<filter at 0x162743e70d0>"
      ]
     },
     "execution_count": 3,
     "metadata": {},
     "output_type": "execute_result"
    }
   ],
   "source": [
    "dic = filter(lambda x: len(x[0]) == 4, dic.items())\n",
    "dic"
   ]
  },
  {
   "cell_type": "code",
   "execution_count": 4,
   "id": "41a6bfe3",
   "metadata": {
    "scrolled": true
   },
   "outputs": [
    {
     "data": {
      "text/plain": [
       "[('JOIN', 1021),\n",
       " ('PART', 1016),\n",
       " ('that', 274),\n",
       " ('what', 183),\n",
       " ('here', 181),\n",
       " ('....', 170),\n",
       " ('have', 164),\n",
       " ('like', 156),\n",
       " ('with', 152),\n",
       " ('chat', 142),\n",
       " ('your', 137),\n",
       " ('good', 130),\n",
       " ('just', 125),\n",
       " ('lmao', 107),\n",
       " ('know', 103)]"
      ]
     },
     "execution_count": 4,
     "metadata": {},
     "output_type": "execute_result"
    }
   ],
   "source": [
    "dic = dict(dic)\n",
    "sorted(dic.items(),key=lambda x:x[1],reverse=True)[:15]"
   ]
  },
  {
   "cell_type": "markdown",
   "id": "61e1bb3f",
   "metadata": {},
   "source": [
    "### Imports"
   ]
  },
  {
   "cell_type": "code",
   "execution_count": 5,
   "id": "522790d8",
   "metadata": {},
   "outputs": [],
   "source": [
    "import re\n",
    "from nltk.stem import PorterStemmer\n",
    "from nltk import wordpunct_tokenize\n",
    "ps = PorterStemmer()"
   ]
  },
  {
   "cell_type": "markdown",
   "id": "fe0eb3d9",
   "metadata": {},
   "source": [
    "### Experiment 11"
   ]
  },
  {
   "cell_type": "code",
   "execution_count": 6,
   "id": "b3beedd6",
   "metadata": {},
   "outputs": [
    {
     "name": "stdout",
     "output_type": "stream",
     "text": [
      "in  the  begin  god  creat  the  heaven  and  the  earth  "
     ]
    }
   ],
   "source": [
    "sent = 'In the beginning God created the heaven and the earth .'\n",
    "sent = re.sub(r'[^\\w\\s]', '',sent)\n",
    "tokens =  wordpunct_tokenize(sent)\n",
    "for token in tokens:\n",
    "    print(ps.stem(token), end = '  ')"
   ]
  },
  {
   "cell_type": "markdown",
   "id": "b09e7631",
   "metadata": {},
   "source": [
    "### Experiment 12"
   ]
  },
  {
   "cell_type": "code",
   "execution_count": 7,
   "id": "6d6e3fd2",
   "metadata": {},
   "outputs": [
    {
     "name": "stdout",
     "output_type": "stream",
     "text": [
      "['In', 'the', 'beginning', 'God', 'created', 'the', 'heaven', 'and', 'the', 'earth']\n",
      "10\n"
     ]
    }
   ],
   "source": [
    "sent = 'In the beginning God created the heaven and the earth .'\n",
    "sent = re.sub(r'[^\\w\\s]', '',sent)\n",
    "tokens =  wordpunct_tokenize(sent)\n",
    "print(tokens)\n",
    "print(len(tokens))"
   ]
  },
  {
   "cell_type": "code",
   "execution_count": null,
   "id": "e5ba748e",
   "metadata": {},
   "outputs": [],
   "source": []
  }
 ],
 "metadata": {
  "kernelspec": {
   "display_name": "Python 3 (ipykernel)",
   "language": "python",
   "name": "python3"
  },
  "language_info": {
   "codemirror_mode": {
    "name": "ipython",
    "version": 3
   },
   "file_extension": ".py",
   "mimetype": "text/x-python",
   "name": "python",
   "nbconvert_exporter": "python",
   "pygments_lexer": "ipython3",
   "version": "3.10.4"
  }
 },
 "nbformat": 4,
 "nbformat_minor": 5
}
