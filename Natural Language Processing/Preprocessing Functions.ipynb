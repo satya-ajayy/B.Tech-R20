{
 "cells": [
  {
   "cell_type": "markdown",
   "id": "b1e5a3de",
   "metadata": {},
   "source": [
    "### Imports"
   ]
  },
  {
   "cell_type": "code",
   "execution_count": 2,
   "id": "ef9cbacd",
   "metadata": {},
   "outputs": [],
   "source": [
    "import spacy\n",
    "nlp = spacy.load('en_core_web_sm')"
   ]
  },
  {
   "cell_type": "code",
   "execution_count": 12,
   "id": "aca79b5c",
   "metadata": {},
   "outputs": [
    {
     "name": "stdout",
     "output_type": "stream",
     "text": [
      "Gus Proto is a Python developer currently working for a London-based Fintech company. He is interested in learning Natural Language Processing. There is a developer conference happening on 21 July 2019 in London. It is titled \"Applications of Natural Language Processing\". There is a helpline number  available at +1-1234567891. Gus is helping organize it. He keeps organizing local Python meetups and several internal talks at his workplace. Gus is also presenting a talk. The talk will introduce the reader about \"Use cases of Natural Language Processing in Fintech\". Apart from his work, he is very passionate about music. Gus is learning to play the Piano. He has enrolled  himself in the weekend batch of Great Piano Academy. Great Piano Academy is situated in Mayfair or the City of London and has world-class piano instructors.\n"
     ]
    }
   ],
   "source": [
    "file_name = '../All Data_Files/about text.txt'\n",
    "with open(file_name,'r') as f:\n",
    "    text = f.read()\n",
    "print(text)"
   ]
  },
  {
   "cell_type": "code",
   "execution_count": 13,
   "id": "24a7f1b4",
   "metadata": {},
   "outputs": [
    {
     "data": {
      "text/plain": [
       "Gus Proto is a Python developer currently working for a London-based Fintech company. He is interested in learning Natural Language Processing. There is a developer conference happening on 21 July 2019 in London. It is titled \"Applications of Natural Language Processing\". There is a helpline number  available at +1-1234567891. Gus is helping organize it. He keeps organizing local Python meetups and several internal talks at his workplace. Gus is also presenting a talk. The talk will introduce the reader about \"Use cases of Natural Language Processing in Fintech\". Apart from his work, he is very passionate about music. Gus is learning to play the Piano. He has enrolled  himself in the weekend batch of Great Piano Academy. Great Piano Academy is situated in Mayfair or the City of London and has world-class piano instructors."
      ]
     },
     "execution_count": 13,
     "metadata": {},
     "output_type": "execute_result"
    }
   ],
   "source": [
    "doc = nlp(text)\n",
    "doc"
   ]
  },
  {
   "cell_type": "markdown",
   "id": "aaafec80",
   "metadata": {},
   "source": [
    "## Preprocessing Functions\n",
    "You can create a preprocessing function that takes text as input and applies the following operations:\n",
    "   * Lowercases the text\n",
    "   * Lemmatizes each token\n",
    "   * Removes punctuation symbols\n",
    "   * Removes stop words\n",
    "A preprocessing function converts text to an analyzable format. It’s necessary for most NLP tasks. \n",
    "\n",
    "Here’s an example"
   ]
  },
  {
   "cell_type": "code",
   "execution_count": 14,
   "id": "e4957f7f",
   "metadata": {},
   "outputs": [],
   "source": [
    "def is_token_allowed(token):\n",
    "    '''Only allow valid tokens which are not \n",
    "    stop words and punctuation symbols. '''\n",
    "    if not (token.is_punct or token.is_stop):\n",
    "        return True\n",
    "    return False"
   ]
  },
  {
   "cell_type": "code",
   "execution_count": 15,
   "id": "89748b02",
   "metadata": {},
   "outputs": [],
   "source": [
    "def preprocess_token(token):\n",
    "    return token.lemma_.strip().lower()"
   ]
  },
  {
   "cell_type": "code",
   "execution_count": 16,
   "id": "e658c6ed",
   "metadata": {},
   "outputs": [
    {
     "name": "stdout",
     "output_type": "stream",
     "text": [
      "['gus', 'proto', 'python', 'developer', 'currently', 'work', 'london', 'base', 'fintech', 'company', 'interested', 'learn', 'natural', 'language', 'processing', 'developer', 'conference', 'happen', '21', 'july', '2019', 'london', 'title', 'applications', 'natural', 'language', 'processing', 'helpline', 'number', '', 'available', '+1', '1234567891', 'gus', 'helping', 'organize', 'keep', 'organize', 'local', 'python', 'meetup', 'internal', 'talk', 'workplace', 'gus', 'present', 'talk', 'talk', 'introduce', 'reader', 'use', 'case', 'natural', 'language', 'processing', 'fintech', 'apart', 'work', 'passionate', 'music', 'gus', 'learn', 'play', 'piano', 'enrol', '', 'weekend', 'batch', 'great', 'piano', 'academy', 'great', 'piano', 'academy', 'situate', 'mayfair', 'city', 'london', 'world', 'class', 'piano', 'instructor']\n"
     ]
    }
   ],
   "source": [
    "complete_filtered_tokens = [preprocess_token(token)\n",
    "    for token in doc if is_token_allowed(token)]\n",
    "print(complete_filtered_tokens)"
   ]
  },
  {
   "cell_type": "code",
   "execution_count": null,
   "id": "34e51d0d",
   "metadata": {},
   "outputs": [],
   "source": []
  }
 ],
 "metadata": {
  "kernelspec": {
   "display_name": "Python 3 (ipykernel)",
   "language": "python",
   "name": "python3"
  },
  "language_info": {
   "codemirror_mode": {
    "name": "ipython",
    "version": 3
   },
   "file_extension": ".py",
   "mimetype": "text/x-python",
   "name": "python",
   "nbconvert_exporter": "python",
   "pygments_lexer": "ipython3",
   "version": "3.10.4"
  }
 },
 "nbformat": 4,
 "nbformat_minor": 5
}
