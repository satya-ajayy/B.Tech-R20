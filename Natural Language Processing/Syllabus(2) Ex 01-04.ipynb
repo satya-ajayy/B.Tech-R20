{
 "cells": [
  {
   "cell_type": "markdown",
   "id": "549d37af",
   "metadata": {},
   "source": [
    "### Experiment 1b"
   ]
  },
  {
   "cell_type": "code",
   "execution_count": 1,
   "id": "f64cddb7",
   "metadata": {},
   "outputs": [
    {
     "name": "stdout",
     "output_type": "stream",
     "text": [
      "Expression to Calulcate : 67+45*789\n",
      "67+45*789 = 35572\n"
     ]
    }
   ],
   "source": [
    "expr = input('Expression to Calulcate : ')\n",
    "print(f'{expr} = {eval(expr)}')"
   ]
  },
  {
   "cell_type": "markdown",
   "id": "a90e5e58",
   "metadata": {},
   "source": [
    "### Experiment 2a"
   ]
  },
  {
   "cell_type": "code",
   "execution_count": 2,
   "id": "3eceaf3e",
   "metadata": {},
   "outputs": [],
   "source": [
    "my_string = 'Hi, My name is SatyaAjay'"
   ]
  },
  {
   "cell_type": "code",
   "execution_count": 3,
   "id": "c4dd722b",
   "metadata": {
    "scrolled": true
   },
   "outputs": [
    {
     "data": {
      "text/plain": [
       "'Hi, My name is SatyaAjay'"
      ]
     },
     "execution_count": 3,
     "metadata": {},
     "output_type": "execute_result"
    }
   ],
   "source": [
    "my_string"
   ]
  },
  {
   "cell_type": "code",
   "execution_count": 4,
   "id": "cc3f6798",
   "metadata": {},
   "outputs": [
    {
     "name": "stdout",
     "output_type": "stream",
     "text": [
      "Hi, My name is SatyaAjay\n"
     ]
    }
   ],
   "source": [
    "print(my_string)"
   ]
  },
  {
   "cell_type": "markdown",
   "id": "561b2433",
   "metadata": {},
   "source": [
    "### Experiment 2b"
   ]
  },
  {
   "cell_type": "code",
   "execution_count": 5,
   "id": "e359f3ca",
   "metadata": {},
   "outputs": [
    {
     "data": {
      "text/plain": [
       "'Hi, My name is SatyaAjayHi, My name is SatyaAjay'"
      ]
     },
     "execution_count": 5,
     "metadata": {},
     "output_type": "execute_result"
    }
   ],
   "source": [
    "my_string + my_string"
   ]
  },
  {
   "cell_type": "code",
   "execution_count": 6,
   "id": "10da6a71",
   "metadata": {},
   "outputs": [
    {
     "data": {
      "text/plain": [
       "'Hi, My name is SatyaAjayHi, My name is SatyaAjayHi, My name is SatyaAjay'"
      ]
     },
     "execution_count": 6,
     "metadata": {},
     "output_type": "execute_result"
    }
   ],
   "source": [
    "my_string*3"
   ]
  },
  {
   "cell_type": "code",
   "execution_count": 7,
   "id": "0fee3791",
   "metadata": {},
   "outputs": [
    {
     "data": {
      "text/plain": [
       "'Hi, My name is SatyaAjay Hi, My name is SatyaAjay'"
      ]
     },
     "execution_count": 7,
     "metadata": {},
     "output_type": "execute_result"
    }
   ],
   "source": [
    "my_string + ' ' + my_string"
   ]
  },
  {
   "cell_type": "code",
   "execution_count": 8,
   "id": "2e22472f",
   "metadata": {},
   "outputs": [
    {
     "data": {
      "text/plain": [
       "'Hi, My name is SatyaAjay Hi, My name is SatyaAjay Hi, My name is SatyaAjay'"
      ]
     },
     "execution_count": 8,
     "metadata": {},
     "output_type": "execute_result"
    }
   ],
   "source": [
    "((my_string + ' ')*3).strip()"
   ]
  },
  {
   "cell_type": "markdown",
   "id": "d3e0180e",
   "metadata": {},
   "source": [
    "### Experiment 3a"
   ]
  },
  {
   "cell_type": "code",
   "execution_count": 9,
   "id": "cd12fd3e",
   "metadata": {},
   "outputs": [],
   "source": [
    "my_sent = ['My','name','is','Satya', 'Ajay', '.']"
   ]
  },
  {
   "cell_type": "code",
   "execution_count": 10,
   "id": "5c539a2b",
   "metadata": {},
   "outputs": [
    {
     "data": {
      "text/plain": [
       "'My name is Satya Ajay .'"
      ]
     },
     "execution_count": 10,
     "metadata": {},
     "output_type": "execute_result"
    }
   ],
   "source": [
    "string = ' '.join(my_sent)\n",
    "string"
   ]
  },
  {
   "cell_type": "markdown",
   "id": "f6b29500",
   "metadata": {},
   "source": [
    "### Experiment 3b"
   ]
  },
  {
   "cell_type": "code",
   "execution_count": 11,
   "id": "84233a64",
   "metadata": {},
   "outputs": [
    {
     "data": {
      "text/plain": [
       "['My', 'name', 'is', 'Satya', 'Ajay', '.']"
      ]
     },
     "execution_count": 11,
     "metadata": {},
     "output_type": "execute_result"
    }
   ],
   "source": [
    "string.split(' ')"
   ]
  },
  {
   "cell_type": "markdown",
   "id": "e45c2195",
   "metadata": {},
   "source": [
    "### Imports"
   ]
  },
  {
   "cell_type": "code",
   "execution_count": 2,
   "id": "874da907",
   "metadata": {},
   "outputs": [
    {
     "name": "stdout",
     "output_type": "stream",
     "text": [
      "*** Introductory Examples for the NLTK Book ***\n",
      "Loading text1, ..., text9 and sent1, ..., sent9\n",
      "Type the name of the text or sentence to view it.\n",
      "Type: 'texts()' or 'sents()' to list the materials.\n",
      "text1: Moby Dick by Herman Melville 1851\n",
      "text2: Sense and Sensibility by Jane Austen 1811\n",
      "text3: The Book of Genesis\n",
      "text4: Inaugural Address Corpus\n",
      "text5: Chat Corpus\n",
      "text6: Monty Python and the Holy Grail\n",
      "text7: Wall Street Journal\n",
      "text8: Personals Corpus\n",
      "text9: The Man Who Was Thursday by G . K . Chesterton 1908\n"
     ]
    },
    {
     "data": {
      "text/plain": [
       "<Text: Monty Python and the Holy Grail>"
      ]
     },
     "execution_count": 2,
     "metadata": {},
     "output_type": "execute_result"
    }
   ],
   "source": [
    "import nltk\n",
    "from nltk.book import text6\n",
    "text6"
   ]
  },
  {
   "cell_type": "markdown",
   "id": "c9bafdc2",
   "metadata": {},
   "source": [
    "### Experiment 4a"
   ]
  },
  {
   "cell_type": "code",
   "execution_count": 3,
   "id": "30b920aa",
   "metadata": {},
   "outputs": [
    {
     "name": "stdout",
     "output_type": "stream",
     "text": [
      "No of Tokens : 16967\n",
      "['SCENE', '1', ':', '[', 'wind', ']', '[', 'clop', 'clop', 'clop', ']', 'KING', 'ARTHUR', ':', 'Whoa', 'there', '!', '[', 'clop', 'clop', 'clop', ']', 'SOLDIER', '#', '1', ':', 'Halt', '!', 'Who', 'goes', 'there', '?', 'ARTHUR', ':', 'It', 'is', 'I', ',', 'Arthur', ',', 'son', 'of', 'Uther', 'Pendragon', ',', 'from', 'the', 'castle', 'of', 'Camelot']\n"
     ]
    }
   ],
   "source": [
    "tokens = text6.tokens\n",
    "print(f'No of Tokens : {len(tokens)}')\n",
    "print(tokens[:50])"
   ]
  },
  {
   "cell_type": "code",
   "execution_count": 4,
   "id": "6ba763c5",
   "metadata": {
    "scrolled": true
   },
   "outputs": [
    {
     "name": "stdout",
     "output_type": "stream",
     "text": [
      "['wise', 'noise', 'apologise', 'surprise']\n"
     ]
    }
   ],
   "source": [
    "lst = list(set(filter(lambda x: x.endswith('ise'),tokens)))\n",
    "print(lst)"
   ]
  },
  {
   "cell_type": "markdown",
   "id": "6009bb1c",
   "metadata": {},
   "source": [
    "### Experiment 4b"
   ]
  },
  {
   "cell_type": "code",
   "execution_count": 5,
   "id": "022784ce",
   "metadata": {},
   "outputs": [
    {
     "name": "stdout",
     "output_type": "stream",
     "text": [
      "['zone', 'frozen', 'zoop', 'Fetchez', 'amazes', 'zoosh', 'zhiv', 'zoo']\n"
     ]
    }
   ],
   "source": [
    "lst = list(set(filter(lambda x: 'z' in x,tokens)))\n",
    "print(lst)"
   ]
  },
  {
   "cell_type": "markdown",
   "id": "9a7b99a0",
   "metadata": {},
   "source": [
    "### Experiment 4c"
   ]
  },
  {
   "cell_type": "code",
   "execution_count": 6,
   "id": "dd668ff4",
   "metadata": {},
   "outputs": [
    {
     "name": "stdout",
     "output_type": "stream",
     "text": [
      "['Thppt', 'Thpppt', 'Chapter', 'empty', 'ptoo', 'Thpppppt', 'excepting', 'temptation', 'temptress', 'Thppppt', 'aptly']\n"
     ]
    }
   ],
   "source": [
    "lst = list(set(filter(lambda x: 'pt' in x,tokens)))\n",
    "print(lst)"
   ]
  },
  {
   "cell_type": "markdown",
   "id": "ff2e4dea",
   "metadata": {},
   "source": [
    "### Experiment 4d"
   ]
  },
  {
   "cell_type": "code",
   "execution_count": 17,
   "id": "2bdc7d7c",
   "metadata": {
    "scrolled": false
   },
   "outputs": [
    {
     "name": "stdout",
     "output_type": "stream",
     "text": [
      "No of Title Case Words : 2672\n",
      "['Whoa', 'Halt', 'Who', 'It', 'I', 'Arthur', 'Uther', 'Pendragon', 'Camelot', 'King', 'Britons', 'Saxons', 'England', 'Pull', 'I', 'Patsy', 'We', 'Camelot', 'I', 'What', 'Ridden', 'Yes', 'You', 'What', 'You', 'So', 'We', 'Mercea', 'Where', 'We', 'Found', 'In', 'Mercea', 'The', 'What', 'Well', 'The', 'Are', 'Not', 'They', 'What', 'A', 'It', 'It', 'It', 'A', 'Well', 'Will', 'Arthur', 'Court']\n"
     ]
    }
   ],
   "source": [
    "lst = list(filter(lambda x: x.istitle(), tokens))\n",
    "print(f'No of Title Case Words : {len(lst)}')\n",
    "print(lst[:50])"
   ]
  }
 ],
 "metadata": {
  "kernelspec": {
   "display_name": "Python 3 (ipykernel)",
   "language": "python",
   "name": "python3"
  },
  "language_info": {
   "codemirror_mode": {
    "name": "ipython",
    "version": 3
   },
   "file_extension": ".py",
   "mimetype": "text/x-python",
   "name": "python",
   "nbconvert_exporter": "python",
   "pygments_lexer": "ipython3",
   "version": "3.10.4"
  }
 },
 "nbformat": 4,
 "nbformat_minor": 5
}
