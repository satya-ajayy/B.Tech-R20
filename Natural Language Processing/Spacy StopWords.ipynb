{
 "cells": [
  {
   "cell_type": "code",
   "execution_count": 1,
   "id": "698164b7",
   "metadata": {},
   "outputs": [],
   "source": [
    "import spacy\n",
    "nlp = spacy.load('en_core_web_sm')"
   ]
  },
  {
   "cell_type": "code",
   "execution_count": 3,
   "id": "07b9242e",
   "metadata": {},
   "outputs": [
    {
     "data": {
      "text/plain": [
       "326"
      ]
     },
     "execution_count": 3,
     "metadata": {},
     "output_type": "execute_result"
    }
   ],
   "source": [
    "spacy_stopwords = spacy.lang.en.stop_words.STOP_WORDS\n",
    "len(spacy_stopwords)"
   ]
  },
  {
   "cell_type": "code",
   "execution_count": 4,
   "id": "0a181101",
   "metadata": {},
   "outputs": [
    {
     "name": "stdout",
     "output_type": "stream",
     "text": [
      "any,  show,  our,  whither,  beside,  whereafter,  twelve,  there,  might,  say,  anyhow,  re,  ‘m,  very,  amongst,  have,  whether,  been,  yourself,  move,  on,  to,  while,  you,  third,  ca,  through,  because,  whom,  my,  everyone,  thence,  against,  nevertheless,  latter,  are,  nothing,  across,  much,  them,  ours,  under,  neither,  though,  alone,  another,  above,  ourselves,  get,  name,  "
     ]
    }
   ],
   "source": [
    "for stop_word in list(spacy_stopwords)[:50]:\n",
    "    print(stop_word, end= ',  ')"
   ]
  },
  {
   "cell_type": "code",
   "execution_count": 5,
   "id": "cce74091",
   "metadata": {},
   "outputs": [
    {
     "data": {
      "text/plain": [
       "'Gus Proto is a Python developer currently working for a London-based Fintech company. He is interested in learning Natural Language Processing.'"
      ]
     },
     "execution_count": 5,
     "metadata": {},
     "output_type": "execute_result"
    }
   ],
   "source": [
    "text = ('Gus Proto is a Python developer currently working for a London-based Fintech'\n",
    "         ' company. He is interested in learning Natural Language Processing.')\n",
    "text"
   ]
  },
  {
   "cell_type": "code",
   "execution_count": 6,
   "id": "8a817654",
   "metadata": {},
   "outputs": [
    {
     "data": {
      "text/plain": [
       "Gus Proto is a Python developer currently working for a London-based Fintech company. He is interested in learning Natural Language Processing."
      ]
     },
     "execution_count": 6,
     "metadata": {},
     "output_type": "execute_result"
    }
   ],
   "source": [
    "doc = nlp(text)\n",
    "doc"
   ]
  },
  {
   "cell_type": "code",
   "execution_count": 7,
   "id": "3e96cdf7",
   "metadata": {},
   "outputs": [
    {
     "name": "stdout",
     "output_type": "stream",
     "text": [
      "[Gus, Proto, Python, developer, currently, working, London, -, based, Fintech, company, ., interested, learning, Natural, Language, Processing, .]\n"
     ]
    }
   ],
   "source": [
    "no_stopword_doc = [token for token in doc if not token.is_stop]\n",
    "print(no_stopword_doc)"
   ]
  }
 ],
 "metadata": {
  "kernelspec": {
   "display_name": "Python 3 (ipykernel)",
   "language": "python",
   "name": "python3"
  },
  "language_info": {
   "codemirror_mode": {
    "name": "ipython",
    "version": 3
   },
   "file_extension": ".py",
   "mimetype": "text/x-python",
   "name": "python",
   "nbconvert_exporter": "python",
   "pygments_lexer": "ipython3",
   "version": "3.10.4"
  }
 },
 "nbformat": 4,
 "nbformat_minor": 5
}
