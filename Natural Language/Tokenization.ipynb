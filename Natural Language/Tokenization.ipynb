{
 "cells": [
  {
   "cell_type": "markdown",
   "id": "9415045b",
   "metadata": {},
   "source": [
    "### Imports"
   ]
  },
  {
   "cell_type": "code",
   "execution_count": 1,
   "id": "b8d65b46",
   "metadata": {},
   "outputs": [],
   "source": [
    "import spacy\n",
    "import tabulate as tb\n",
    "nlp = spacy.load('en_core_web_sm')"
   ]
  },
  {
   "cell_type": "code",
   "execution_count": 2,
   "id": "a2a05f4b",
   "metadata": {},
   "outputs": [
    {
     "data": {
      "text/plain": [
       "'Gus Proto is a Python developer currently working for a London-based Fintech company. He is interested in learning Natural Language Processing.'"
      ]
     },
     "execution_count": 2,
     "metadata": {},
     "output_type": "execute_result"
    }
   ],
   "source": [
    "text = ('Gus Proto is a Python developer currently working for a London-based Fintech'\n",
    "         ' company. He is interested in learning Natural Language Processing.')\n",
    "text"
   ]
  },
  {
   "cell_type": "code",
   "execution_count": 3,
   "id": "07101799",
   "metadata": {},
   "outputs": [
    {
     "data": {
      "text/plain": [
       "Gus Proto is a Python developer currently working for a London-based Fintech company. He is interested in learning Natural Language Processing."
      ]
     },
     "execution_count": 3,
     "metadata": {},
     "output_type": "execute_result"
    }
   ],
   "source": [
    "doc = nlp(text)\n",
    "doc"
   ]
  },
  {
   "cell_type": "markdown",
   "id": "6c97cc0c",
   "metadata": {},
   "source": [
    "### Printing Token with Index"
   ]
  },
  {
   "cell_type": "code",
   "execution_count": 4,
   "id": "da071515",
   "metadata": {},
   "outputs": [
    {
     "name": "stdout",
     "output_type": "stream",
     "text": [
      "+------------+-------+\n",
      "|   Token    | Index |\n",
      "+------------+-------+\n",
      "|    Gus     |   0   |\n",
      "|   Proto    |   4   |\n",
      "|     is     |  10   |\n",
      "|     a      |  13   |\n",
      "|   Python   |  15   |\n",
      "| developer  |  22   |\n",
      "| currently  |  32   |\n",
      "|  working   |  42   |\n",
      "|    for     |  50   |\n",
      "|     a      |  54   |\n",
      "|   London   |  56   |\n",
      "|     -      |  62   |\n",
      "|   based    |  63   |\n",
      "|  Fintech   |  69   |\n",
      "|  company   |  77   |\n",
      "|     .      |  84   |\n",
      "|     He     |  86   |\n",
      "|     is     |  89   |\n",
      "| interested |  92   |\n",
      "|     in     |  103  |\n",
      "|  learning  |  106  |\n",
      "|  Natural   |  115  |\n",
      "|  Language  |  123  |\n",
      "| Processing |  132  |\n",
      "|     .      |  142  |\n",
      "+------------+-------+\n"
     ]
    }
   ],
   "source": [
    "lst=[[token, token.idx] for token in doc]\n",
    "header=['Token', 'Index']\n",
    "print(tb.tabulate(lst, headers=header,tablefmt='pretty'))"
   ]
  },
  {
   "cell_type": "markdown",
   "id": "0da1c0a0",
   "metadata": {},
   "source": [
    "### In this example, some of the commonly required attributes are accessed:\n",
    "   * idx prints token  starting index in doc.\n",
    "   * is_alpha detects if the token consists of alphabetic characters or not.\n",
    "   * is_punct detects if the token is a punctuation symbol or not.\n",
    "   * is_space detects if the token is a space or not.\n",
    "   * shape_ prints out the shape of the word.\n",
    "   * is_stop detects if the token is a stop word or not."
   ]
  },
  {
   "cell_type": "code",
   "execution_count": 5,
   "id": "c08e1fd0",
   "metadata": {},
   "outputs": [
    {
     "name": "stdout",
     "output_type": "stream",
     "text": [
      "+------------+-------+------------------+------------+------------+-------+---------------+\n",
      "|   Token    | Index | Alpabetical(T/F) | Punct(T/F) | Space(T/F) | Shape | StopWord(T/F) |\n",
      "+------------+-------+------------------+------------+------------+-------+---------------+\n",
      "|    Gus     |   0   |       True       |   False    |   False    |  Xxx  |     False     |\n",
      "|   Proto    |   4   |       True       |   False    |   False    | Xxxxx |     False     |\n",
      "|     is     |  10   |       True       |   False    |   False    |  xx   |     True      |\n",
      "|     a      |  13   |       True       |   False    |   False    |   x   |     True      |\n",
      "|   Python   |  15   |       True       |   False    |   False    | Xxxxx |     False     |\n",
      "| developer  |  22   |       True       |   False    |   False    | xxxx  |     False     |\n",
      "| currently  |  32   |       True       |   False    |   False    | xxxx  |     False     |\n",
      "|  working   |  42   |       True       |   False    |   False    | xxxx  |     False     |\n",
      "|    for     |  50   |       True       |   False    |   False    |  xxx  |     True      |\n",
      "|     a      |  54   |       True       |   False    |   False    |   x   |     True      |\n",
      "|   London   |  56   |       True       |   False    |   False    | Xxxxx |     False     |\n",
      "|     -      |  62   |      False       |    True    |   False    |   -   |     False     |\n",
      "|   based    |  63   |       True       |   False    |   False    | xxxx  |     False     |\n",
      "|  Fintech   |  69   |       True       |   False    |   False    | Xxxxx |     False     |\n",
      "|  company   |  77   |       True       |   False    |   False    | xxxx  |     False     |\n",
      "|     .      |  84   |      False       |    True    |   False    |   .   |     False     |\n",
      "|     He     |  86   |       True       |   False    |   False    |  Xx   |     True      |\n",
      "|     is     |  89   |       True       |   False    |   False    |  xx   |     True      |\n",
      "| interested |  92   |       True       |   False    |   False    | xxxx  |     False     |\n",
      "|     in     |  103  |       True       |   False    |   False    |  xx   |     True      |\n",
      "|  learning  |  106  |       True       |   False    |   False    | xxxx  |     False     |\n",
      "|  Natural   |  115  |       True       |   False    |   False    | Xxxxx |     False     |\n",
      "|  Language  |  123  |       True       |   False    |   False    | Xxxxx |     False     |\n",
      "| Processing |  132  |       True       |   False    |   False    | Xxxxx |     False     |\n",
      "|     .      |  142  |      False       |    True    |   False    |   .   |     False     |\n",
      "+------------+-------+------------------+------------+------------+-------+---------------+\n"
     ]
    }
   ],
   "source": [
    "lst=[[token, token.idx, token.is_alpha, token.is_punct, token.is_space,\n",
    "           token.shape_, token.is_stop] for token in doc]\n",
    "header=['Token', 'Index','Alpabetical(T/F)','Punct(T/F)',\n",
    "        'Space(T/F)', 'Shape', 'StopWord(T/F)']\n",
    "print(tb.tabulate(lst, headers=header,tablefmt='pretty'))"
   ]
  },
  {
   "cell_type": "markdown",
   "id": "60322a0a",
   "metadata": {},
   "source": [
    " --------"
   ]
  }
 ],
 "metadata": {
  "kernelspec": {
   "display_name": "Python 3 (ipykernel)",
   "language": "python",
   "name": "python3"
  },
  "language_info": {
   "codemirror_mode": {
    "name": "ipython",
    "version": 3
   },
   "file_extension": ".py",
   "mimetype": "text/x-python",
   "name": "python",
   "nbconvert_exporter": "python",
   "pygments_lexer": "ipython3",
   "version": "3.10.4"
  }
 },
 "nbformat": 4,
 "nbformat_minor": 5
}
