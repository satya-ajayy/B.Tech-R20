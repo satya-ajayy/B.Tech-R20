{
 "cells": [
  {
   "cell_type": "code",
   "execution_count": 1,
   "id": "a8bc6da1",
   "metadata": {},
   "outputs": [],
   "source": [
    "import spacy\n",
    "from spellchecker import SpellChecker\n",
    "nlp = spacy.load('en_core_web_sm')"
   ]
  },
  {
   "cell_type": "code",
   "execution_count": 5,
   "id": "6bf071de",
   "metadata": {},
   "outputs": [
    {
     "data": {
      "text/plain": [
       "'He is playng crickt.\\nI am having my dinner.\\nThere is power falure.'"
      ]
     },
     "execution_count": 5,
     "metadata": {},
     "output_type": "execute_result"
    }
   ],
   "source": [
    "file_name = '../All DataFiles/wrong lines.txt'\n",
    "file_text = open(file_name).read()\n",
    "file_text"
   ]
  },
  {
   "cell_type": "code",
   "execution_count": 16,
   "id": "da3a3eec",
   "metadata": {},
   "outputs": [
    {
     "name": "stdout",
     "output_type": "stream",
     "text": [
      "['He', 'is', 'playng', 'crickt', '.', 'I', 'am', 'having', 'my', 'dinner', '.', 'There', 'is', 'power', 'falure', '.']\n"
     ]
    }
   ],
   "source": [
    "doc = nlp(file_text)\n",
    "lst = [token.text for token in doc if not token.is_space]\n",
    "print(lst)"
   ]
  },
  {
   "cell_type": "code",
   "execution_count": 17,
   "id": "ea56349f",
   "metadata": {},
   "outputs": [
    {
     "data": {
      "text/plain": [
       "{'crickt', 'falure', 'playng'}"
      ]
     },
     "execution_count": 17,
     "metadata": {},
     "output_type": "execute_result"
    }
   ],
   "source": [
    "spell = SpellChecker()\n",
    "misspelled_words = spell.unknown(lst)\n",
    "misspelled_words"
   ]
  },
  {
   "cell_type": "code",
   "execution_count": 18,
   "id": "ab36eaac",
   "metadata": {},
   "outputs": [
    {
     "data": {
      "text/plain": [
       "'He is playing cricket.\\nI am having my dinner.\\nThere is power failure.'"
      ]
     },
     "execution_count": 18,
     "metadata": {},
     "output_type": "execute_result"
    }
   ],
   "source": [
    "for misspelled_word in misspelled_words:\n",
    "    file_text = file_text.replace(misspelled_word,spell.correction(misspelled_word))\n",
    "file_text"
   ]
  },
  {
   "cell_type": "code",
   "execution_count": 19,
   "id": "1f2bbf2c",
   "metadata": {},
   "outputs": [
    {
     "data": {
      "text/plain": [
       "3"
      ]
     },
     "execution_count": 19,
     "metadata": {},
     "output_type": "execute_result"
    }
   ],
   "source": [
    "doc = nlp(file_text)\n",
    "sentences = list(doc.sents)\n",
    "len(sentences)"
   ]
  },
  {
   "cell_type": "code",
   "execution_count": 20,
   "id": "50bd8ede",
   "metadata": {},
   "outputs": [
    {
     "name": "stdout",
     "output_type": "stream",
     "text": [
      "1) He is playing cricket.\n",
      "2) I am having my dinner.\n",
      "3) There is power failure.\n"
     ]
    }
   ],
   "source": [
    "for ind, sentence in enumerate(sentences):\n",
    "    print(f'{ind+1}) {str(sentence).strip()}')"
   ]
  },
  {
   "cell_type": "code",
   "execution_count": null,
   "id": "67f74fcb",
   "metadata": {},
   "outputs": [],
   "source": []
  }
 ],
 "metadata": {
  "kernelspec": {
   "display_name": "Python 3",
   "language": "python",
   "name": "python3"
  },
  "language_info": {
   "codemirror_mode": {
    "name": "ipython",
    "version": 3
   },
   "file_extension": ".py",
   "mimetype": "text/x-python",
   "name": "python",
   "nbconvert_exporter": "python",
   "pygments_lexer": "ipython3",
   "version": "3.9.5"
  }
 },
 "nbformat": 4,
 "nbformat_minor": 5
}
