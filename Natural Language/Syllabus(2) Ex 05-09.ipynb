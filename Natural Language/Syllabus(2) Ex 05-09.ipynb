{
 "cells": [
  {
   "cell_type": "code",
   "execution_count": 1,
   "id": "7fadecc1",
   "metadata": {},
   "outputs": [],
   "source": [
    "sent =['she', 'sells', 'sea', 'shells','by', 'the', 'sea', 'shore']"
   ]
  },
  {
   "cell_type": "markdown",
   "id": "b2f757a6",
   "metadata": {},
   "source": [
    "### Experiment 5a"
   ]
  },
  {
   "cell_type": "code",
   "execution_count": 2,
   "id": "29f3cebc",
   "metadata": {},
   "outputs": [
    {
     "name": "stdout",
     "output_type": "stream",
     "text": [
      "she\n",
      "shells\n",
      "shore\n"
     ]
    }
   ],
   "source": [
    "for word in sent:\n",
    "    if word.startswith('sh'):\n",
    "        print(word)"
   ]
  },
  {
   "cell_type": "markdown",
   "id": "7b2a1d91",
   "metadata": {},
   "source": [
    "### Experiment 5b"
   ]
  },
  {
   "cell_type": "code",
   "execution_count": 3,
   "id": "66d2ba2f",
   "metadata": {
    "scrolled": true
   },
   "outputs": [
    {
     "name": "stdout",
     "output_type": "stream",
     "text": [
      "sells\n",
      "shells\n",
      "shore\n"
     ]
    }
   ],
   "source": [
    "for word in sent:\n",
    "    if len(word) > 4:\n",
    "        print(word)"
   ]
  },
  {
   "cell_type": "markdown",
   "id": "195b3ba6",
   "metadata": {},
   "source": [
    "### Experiment 6"
   ]
  },
  {
   "cell_type": "code",
   "execution_count": 7,
   "id": "4673c5b5",
   "metadata": {
    "scrolled": true
   },
   "outputs": [
    {
     "name": "stdout",
     "output_type": "stream",
     "text": [
      "['Call', 'me', 'Ishmael', '.', 'The', 'family', 'of', 'Dashwood', 'had', 'long', 'been', 'settled', 'in', 'Sussex', '.', 'In', 'the', 'beginning', 'God', 'created', 'the', 'heaven', 'and', 'the', 'earth', '.', 'Fellow', '-', 'Citizens', 'of', 'the', 'Senate', 'and', 'of', 'the', 'House', 'of', 'Representatives', ':', 'I', 'have', 'a', 'problem', 'with', 'people', 'PMing', 'me', 'to', 'lol', 'JOIN', 'I', 'have', 'a', 'problem', 'with', 'people', 'PMing', 'me', 'to', 'lol', 'JOIN', 'SCENE', '1', ':', '[', 'wind', ']', '[', 'clop', 'clop', 'clop', ']', 'KING', 'ARTHUR', ':', 'Whoa', 'there', '!', 'Pierre', 'Vinken', ',', '61', 'years', 'old', ',', 'will', 'join', 'the', 'board', 'as', 'a', 'nonexecutive', 'director', 'Nov.', '29', '.', '25', 'SEXY', 'MALE', ',', 'seeks', 'attrac', 'older', 'single', 'lady', ',', 'for', 'discreet', 'encounters', '.']\n"
     ]
    }
   ],
   "source": [
    "sent = sent1 + sent2 + sent3 + sent4 + sent5 + sent5 + sent6 + sent7 + sent8\n",
    "print(sent)"
   ]
  },
  {
   "cell_type": "code",
   "execution_count": 8,
   "id": "34e4ba0a",
   "metadata": {
    "scrolled": true
   },
   "outputs": [
    {
     "name": "stdout",
     "output_type": "stream",
     "text": [
      "['!', ',', '-', '.', '1', '25', '29', '61', ':', 'ARTHUR', 'Call', 'Citizens', 'Dashwood', 'Fellow', 'God', 'House', 'I', 'In', 'Ishmael', 'JOIN', 'KING', 'MALE', 'Nov.', 'PMing', 'Pierre', 'Representatives', 'SCENE', 'SEXY', 'Senate', 'Sussex', 'The', 'Vinken', 'Whoa', '[', ']', 'a', 'and', 'as', 'attrac', 'been', 'beginning', 'board', 'clop', 'created', 'director', 'discreet', 'earth', 'encounters', 'family', 'for', 'had', 'have', 'heaven', 'in', 'join', 'lady', 'lol', 'long', 'me', 'nonexecutive', 'of', 'old', 'older', 'people', 'problem', 'seeks', 'settled', 'single', 'the', 'there', 'to', 'will', 'wind', 'with', 'years']\n"
     ]
    }
   ],
   "source": [
    "vocabulary = sorted(set(sent))\n",
    "print(vocabulary)"
   ]
  },
  {
   "cell_type": "markdown",
   "id": "b86cc27e",
   "metadata": {},
   "source": [
    "### Imports"
   ]
  },
  {
   "cell_type": "code",
   "execution_count": 5,
   "id": "f796b828",
   "metadata": {
    "scrolled": true
   },
   "outputs": [
    {
     "name": "stdout",
     "output_type": "stream",
     "text": [
      "*** Introductory Examples for the NLTK Book ***\n",
      "Loading text1, ..., text9 and sent1, ..., sent9\n",
      "Type the name of the text or sentence to view it.\n",
      "Type: 'texts()' or 'sents()' to list the materials.\n",
      "text1: Moby Dick by Herman Melville 1851\n",
      "text2: Sense and Sensibility by Jane Austen 1811\n",
      "text3: The Book of Genesis\n",
      "text4: Inaugural Address Corpus\n",
      "text5: Chat Corpus\n",
      "text6: Monty Python and the Holy Grail\n",
      "text7: Wall Street Journal\n",
      "text8: Personals Corpus\n",
      "text9: The Man Who Was Thursday by G . K . Chesterton 1908\n"
     ]
    }
   ],
   "source": [
    "import nltk\n",
    "from nltk.book import *"
   ]
  },
  {
   "cell_type": "markdown",
   "id": "a62f91eb",
   "metadata": {},
   "source": [
    "### Experiment 7"
   ]
  },
  {
   "cell_type": "code",
   "execution_count": 9,
   "id": "8576c9c9",
   "metadata": {},
   "outputs": [
    {
     "data": {
      "text/plain": [
       "<Text: The Man Who Was Thursday by G . K . Chesterton 1908>"
      ]
     },
     "execution_count": 9,
     "metadata": {},
     "output_type": "execute_result"
    }
   ],
   "source": [
    "text9"
   ]
  },
  {
   "cell_type": "code",
   "execution_count": 10,
   "id": "3e9d80ba",
   "metadata": {},
   "outputs": [
    {
     "data": {
      "text/plain": [
       "629"
      ]
     },
     "execution_count": 10,
     "metadata": {},
     "output_type": "execute_result"
    }
   ],
   "source": [
    "text9.index('sunset')"
   ]
  },
  {
   "cell_type": "code",
   "execution_count": 11,
   "id": "3d832fb0",
   "metadata": {
    "scrolled": true
   },
   "outputs": [
    {
     "name": "stdout",
     "output_type": "stream",
     "text": [
      "['PARK', 'THE', 'suburb', 'of', 'Saffron', 'Park', 'lay', 'on', 'the', 'sunset', 'side', 'of', 'London', ',', 'as']\n"
     ]
    }
   ],
   "source": [
    "print(text9[620:635]) "
   ]
  },
  {
   "cell_type": "code",
   "execution_count": 12,
   "id": "d3f8a925",
   "metadata": {},
   "outputs": [
    {
     "name": "stdout",
     "output_type": "stream",
     "text": [
      "['.', 'C', '.', 'CHAPTER', 'I', 'THE', 'TWO', 'POETS', 'OF', 'SAFFRON', 'PARK', 'THE', 'suburb', 'of', 'Saffron', 'Park', 'lay', 'on', 'the', 'sunset', 'side', 'of', 'London', ',', 'as', 'red', 'and', 'ragged', 'as', 'a', 'cloud', 'of', 'sunset', '.', 'It']\n"
     ]
    }
   ],
   "source": [
    "print(text9[610:645])"
   ]
  },
  {
   "cell_type": "code",
   "execution_count": 13,
   "id": "0d6b969f",
   "metadata": {},
   "outputs": [
    {
     "name": "stdout",
     "output_type": "stream",
     "text": [
      "['CHAPTER', 'I', 'THE', 'TWO', 'POETS', 'OF', 'SAFFRON', 'PARK', 'THE', 'suburb', 'of', 'Saffron', 'Park', 'lay', 'on', 'the', 'sunset', 'side', 'of', 'London', ',', 'as', 'red', 'and', 'ragged', 'as', 'a', 'cloud', 'of', 'sunset', '.']\n"
     ]
    }
   ],
   "source": [
    "print(text9[613:644])"
   ]
  },
  {
   "cell_type": "markdown",
   "id": "2f595e3f",
   "metadata": {},
   "source": [
    "### Experiment 8"
   ]
  },
  {
   "cell_type": "code",
   "execution_count": 29,
   "id": "b4700b7b",
   "metadata": {},
   "outputs": [],
   "source": [
    "def percent(word,text):\n",
    "    lst = text.tokens\n",
    "    length = len(lst)\n",
    "    count = lst.count(word)\n",
    "    print('Total Words in Text file :',length)\n",
    "    print(f'Count of {word} in Text file: ',count) \n",
    "    perc = (count / length) * 100\n",
    "    print(f'Percentage of Occurance of {word} in text: {perc :.3}')"
   ]
  },
  {
   "cell_type": "code",
   "execution_count": 30,
   "id": "2006be46",
   "metadata": {},
   "outputs": [
    {
     "name": "stdout",
     "output_type": "stream",
     "text": [
      "Total Words in Text file : 69213\n",
      "Count of the in Text file:  3291\n",
      "Percentage of Occurance of the in text: 4.75\n"
     ]
    }
   ],
   "source": [
    "percent('the',text9)"
   ]
  },
  {
   "cell_type": "markdown",
   "id": "e928adc1",
   "metadata": {},
   "source": [
    "### Experiment 9"
   ]
  },
  {
   "cell_type": "code",
   "execution_count": 31,
   "id": "5d37a8c9",
   "metadata": {},
   "outputs": [],
   "source": [
    "def vocab_size(text):\n",
    "    dic = text.vocab()\n",
    "    return len(dic)"
   ]
  },
  {
   "cell_type": "code",
   "execution_count": 32,
   "id": "0e73793f",
   "metadata": {},
   "outputs": [
    {
     "name": "stdout",
     "output_type": "stream",
     "text": [
      "CPU times: total: 141 ms\n",
      "Wall time: 142 ms\n"
     ]
    },
    {
     "data": {
      "text/plain": [
       "19317"
      ]
     },
     "execution_count": 32,
     "metadata": {},
     "output_type": "execute_result"
    }
   ],
   "source": [
    "%%time\n",
    "vocab_size(text1)"
   ]
  },
  {
   "cell_type": "code",
   "execution_count": null,
   "id": "748d72b8",
   "metadata": {},
   "outputs": [],
   "source": []
  }
 ],
 "metadata": {
  "kernelspec": {
   "display_name": "Python 3 (ipykernel)",
   "language": "python",
   "name": "python3"
  },
  "language_info": {
   "codemirror_mode": {
    "name": "ipython",
    "version": 3
   },
   "file_extension": ".py",
   "mimetype": "text/x-python",
   "name": "python",
   "nbconvert_exporter": "python",
   "pygments_lexer": "ipython3",
   "version": "3.10.4"
  }
 },
 "nbformat": 4,
 "nbformat_minor": 5
}
