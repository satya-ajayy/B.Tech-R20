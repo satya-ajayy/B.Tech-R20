{
 "cells": [
  {
   "cell_type": "markdown",
   "id": "ffcc34f7",
   "metadata": {},
   "source": [
    "### Imports"
   ]
  },
  {
   "cell_type": "code",
   "execution_count": 1,
   "id": "362310b3",
   "metadata": {},
   "outputs": [],
   "source": [
    "import spacy\n",
    "import tabulate as tb\n",
    "nlp = spacy.load('en_core_web_sm')"
   ]
  },
  {
   "cell_type": "code",
   "execution_count": 2,
   "id": "fa2ab423",
   "metadata": {},
   "outputs": [
    {
     "data": {
      "text/plain": [
       "'Gus is helping organize a developer conference on Applications of Natural Language Processing. He keeps organizing local Python meetups and several internal talks at his workplace.'"
      ]
     },
     "execution_count": 2,
     "metadata": {},
     "output_type": "execute_result"
    }
   ],
   "source": [
    "text = ('Gus is helping organize a developer conference on Applications of Natural Language'\n",
    "    ' Processing. He keeps organizing local Python meetups and several internal talks at his workplace.')\n",
    "text"
   ]
  },
  {
   "cell_type": "code",
   "execution_count": 3,
   "id": "16ed6a1e",
   "metadata": {},
   "outputs": [
    {
     "data": {
      "text/plain": [
       "Gus is helping organize a developer conference on Applications of Natural Language Processing. He keeps organizing local Python meetups and several internal talks at his workplace."
      ]
     },
     "execution_count": 3,
     "metadata": {},
     "output_type": "execute_result"
    }
   ],
   "source": [
    "doc = nlp(text)\n",
    "doc"
   ]
  },
  {
   "cell_type": "markdown",
   "id": "c971d331",
   "metadata": {},
   "source": [
    "### Here, two attributes of the Token class are accessed:\n",
    "   * tag_ lists the fine-grained part of speech.\n",
    "   * pos_ lists the coarse-grained part of speech.\n"
   ]
  },
  {
   "cell_type": "code",
   "execution_count": 4,
   "id": "40e1d2b4",
   "metadata": {
    "scrolled": false
   },
   "outputs": [
    {
     "name": "stdout",
     "output_type": "stream",
     "text": [
      "Gus NNP PROPN noun, proper singular\n",
      "is VBZ AUX verb, 3rd person singular present\n",
      "helping VBG AUX verb, gerund or present participle\n",
      "organize VB VERB verb, base form\n",
      "a DT DET determiner\n",
      "developer NN NOUN noun, singular or mass\n",
      "conference NN NOUN noun, singular or mass\n",
      "on IN ADP conjunction, subordinating or preposition\n",
      "Applications NNS NOUN noun, plural\n",
      "of IN ADP conjunction, subordinating or preposition\n",
      "Natural NNP PROPN noun, proper singular\n",
      "Language NNP PROPN noun, proper singular\n",
      "Processing NNP PROPN noun, proper singular\n",
      ". . PUNCT punctuation mark, sentence closer\n",
      "He PRP PRON pronoun, personal\n",
      "keeps VBZ VERB verb, 3rd person singular present\n",
      "organizing VBG VERB verb, gerund or present participle\n",
      "local JJ ADJ adjective (English), other noun-modifier (Chinese)\n",
      "Python NNP PROPN noun, proper singular\n",
      "meetups NNS NOUN noun, plural\n",
      "and CC CCONJ conjunction, coordinating\n",
      "several JJ ADJ adjective (English), other noun-modifier (Chinese)\n",
      "internal JJ ADJ adjective (English), other noun-modifier (Chinese)\n",
      "talks NNS NOUN noun, plural\n",
      "at IN ADP conjunction, subordinating or preposition\n",
      "his PRP$ PRON pronoun, possessive\n",
      "workplace NN NOUN noun, singular or mass\n",
      ". . PUNCT punctuation mark, sentence closer\n"
     ]
    }
   ],
   "source": [
    "for token in doc:\n",
    "    print (token, token.tag_, token.pos_, spacy.explain(token.tag_))"
   ]
  },
  {
   "cell_type": "code",
   "execution_count": 5,
   "id": "3287c6ce",
   "metadata": {},
   "outputs": [
    {
     "name": "stdout",
     "output_type": "stream",
     "text": [
      "+--------------+-----------+-------+----------------------------------------------------+\n",
      "|    Token     | Token Tag |  POS  |                    Explanation                     |\n",
      "+--------------+-----------+-------+----------------------------------------------------+\n",
      "|     Gus      |    NNP    | PROPN |               noun, proper singular                |\n",
      "|      is      |    VBZ    |  AUX  |         verb, 3rd person singular present          |\n",
      "|   helping    |    VBG    |  AUX  |         verb, gerund or present participle         |\n",
      "|   organize   |    VB     | VERB  |                  verb, base form                   |\n",
      "|      a       |    DT     |  DET  |                     determiner                     |\n",
      "|  developer   |    NN     | NOUN  |               noun, singular or mass               |\n",
      "|  conference  |    NN     | NOUN  |               noun, singular or mass               |\n",
      "|      on      |    IN     |  ADP  |     conjunction, subordinating or preposition      |\n",
      "| Applications |    NNS    | NOUN  |                    noun, plural                    |\n",
      "|      of      |    IN     |  ADP  |     conjunction, subordinating or preposition      |\n",
      "|   Natural    |    NNP    | PROPN |               noun, proper singular                |\n",
      "|   Language   |    NNP    | PROPN |               noun, proper singular                |\n",
      "|  Processing  |    NNP    | PROPN |               noun, proper singular                |\n",
      "|      .       |     .     | PUNCT |         punctuation mark, sentence closer          |\n",
      "|      He      |    PRP    | PRON  |                 pronoun, personal                  |\n",
      "|    keeps     |    VBZ    | VERB  |         verb, 3rd person singular present          |\n",
      "|  organizing  |    VBG    | VERB  |         verb, gerund or present participle         |\n",
      "|    local     |    JJ     |  ADJ  | adjective (English), other noun-modifier (Chinese) |\n",
      "|    Python    |    NNP    | PROPN |               noun, proper singular                |\n",
      "|   meetups    |    NNS    | NOUN  |                    noun, plural                    |\n",
      "|     and      |    CC     | CCONJ |             conjunction, coordinating              |\n",
      "|   several    |    JJ     |  ADJ  | adjective (English), other noun-modifier (Chinese) |\n",
      "|   internal   |    JJ     |  ADJ  | adjective (English), other noun-modifier (Chinese) |\n",
      "|    talks     |    NNS    | NOUN  |                    noun, plural                    |\n",
      "|      at      |    IN     |  ADP  |     conjunction, subordinating or preposition      |\n",
      "|     his      |   PRP$    | PRON  |                pronoun, possessive                 |\n",
      "|  workplace   |    NN     | NOUN  |               noun, singular or mass               |\n",
      "|      .       |     .     | PUNCT |         punctuation mark, sentence closer          |\n",
      "+--------------+-----------+-------+----------------------------------------------------+\n"
     ]
    }
   ],
   "source": [
    "lst=[[token, token.tag_, token.pos_, spacy.explain(token.tag_)] for token in doc]\n",
    "header=['Token', 'Token Tag', 'POS', 'Explanation']\n",
    "print(tb.tabulate(lst, headers=header,tablefmt='pretty'))"
   ]
  }
 ],
 "metadata": {
  "kernelspec": {
   "display_name": "Python 3 (ipykernel)",
   "language": "python",
   "name": "python3"
  },
  "language_info": {
   "codemirror_mode": {
    "name": "ipython",
    "version": 3
   },
   "file_extension": ".py",
   "mimetype": "text/x-python",
   "name": "python",
   "nbconvert_exporter": "python",
   "pygments_lexer": "ipython3",
   "version": "3.10.4"
  }
 },
 "nbformat": 4,
 "nbformat_minor": 5
}
