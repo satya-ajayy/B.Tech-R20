{
 "cells": [
  {
   "cell_type": "code",
   "execution_count": 1,
   "id": "ff30d829",
   "metadata": {},
   "outputs": [],
   "source": [
    "import spacy\n",
    "nlp = spacy.load('en_core_web_sm')"
   ]
  },
  {
   "cell_type": "markdown",
   "id": "1a9d4dd8",
   "metadata": {},
   "source": [
    "### Component"
   ]
  },
  {
   "cell_type": "code",
   "execution_count": 4,
   "id": "96217344",
   "metadata": {},
   "outputs": [],
   "source": [
    "from spacy.language import Language\n",
    "@Language.component(\"my_component\")\n",
    "def set_custom_boundaries(doc):\n",
    "    # Adds support to use '...' as the delimiter for sentence detection\n",
    "    for token in doc[:-1]:\n",
    "        if token.text == '...':\n",
    "            doc[token.i+1].is_sent_start = True\n",
    "    return doc"
   ]
  },
  {
   "cell_type": "code",
   "execution_count": 5,
   "id": "ab6a9696",
   "metadata": {},
   "outputs": [],
   "source": [
    "text = 'Gus, can you, ... never mind, I forgot what I was saying. So, do you think we should ...'"
   ]
  },
  {
   "cell_type": "markdown",
   "id": "71bee922",
   "metadata": {},
   "source": [
    "### Sentence Detection with customization"
   ]
  },
  {
   "cell_type": "code",
   "execution_count": 6,
   "id": "09e35950",
   "metadata": {},
   "outputs": [
    {
     "name": "stdout",
     "output_type": "stream",
     "text": [
      "1) Gus, can you, ...\n",
      "2) never mind, I forgot what I was saying.\n",
      "3) So, do you think we should ...\n"
     ]
    }
   ],
   "source": [
    "custom_nlp = spacy.load('en_core_web_sm')\n",
    "custom_nlp.add_pipe(\"my_component\", before='parser')\n",
    "doc1 = custom_nlp(text)\n",
    "doc1_sentences = list(doc1.sents)\n",
    "for i, sentence in enumerate(doc1_sentences):\n",
    "    print(f'{i+1}) {sentence}')"
   ]
  },
  {
   "cell_type": "markdown",
   "id": "715aad67",
   "metadata": {},
   "source": [
    "### Sentence Detection with no customization"
   ]
  },
  {
   "cell_type": "code",
   "execution_count": 7,
   "id": "045e9d6f",
   "metadata": {},
   "outputs": [
    {
     "name": "stdout",
     "output_type": "stream",
     "text": [
      "1) Gus, can you, ... never mind, I forgot what I was saying.\n",
      "2) So, do you think we should ...\n"
     ]
    }
   ],
   "source": [
    "doc2 = nlp(text)\n",
    "doc2_sentences = list(doc2.sents)\n",
    "for i, sentence in enumerate(doc2_sentences):\n",
    "    print(f'{i+1}) {sentence}')"
   ]
  }
 ],
 "metadata": {
  "kernelspec": {
   "display_name": "Python 3 (ipykernel)",
   "language": "python",
   "name": "python3"
  },
  "language_info": {
   "codemirror_mode": {
    "name": "ipython",
    "version": 3
   },
   "file_extension": ".py",
   "mimetype": "text/x-python",
   "name": "python",
   "nbconvert_exporter": "python",
   "pygments_lexer": "ipython3",
   "version": "3.10.4"
  }
 },
 "nbformat": 4,
 "nbformat_minor": 5
}
