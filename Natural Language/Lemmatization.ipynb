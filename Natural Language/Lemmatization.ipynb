{
 "cells": [
  {
   "cell_type": "markdown",
   "id": "161dbd8e",
   "metadata": {},
   "source": [
    "### Imports"
   ]
  },
  {
   "cell_type": "code",
   "execution_count": 1,
   "id": "a8444a74",
   "metadata": {},
   "outputs": [],
   "source": [
    "import spacy\n",
    "import tabulate as tb\n",
    "nlp = spacy.load('en_core_web_sm')"
   ]
  },
  {
   "cell_type": "code",
   "execution_count": 2,
   "id": "deea91d6",
   "metadata": {
    "scrolled": true
   },
   "outputs": [
    {
     "data": {
      "text/plain": [
       "'Gus is helping organize a developer conference on Applications of Natural Language Processing. He keeps organizing local Python meetups and several internal talks at his workplace.'"
      ]
     },
     "execution_count": 2,
     "metadata": {},
     "output_type": "execute_result"
    }
   ],
   "source": [
    "text1 = ('Gus is helping organize a developer conference on Applications of Natural Language'\n",
    "    ' Processing. He keeps organizing local Python meetups and several internal talks at his workplace.')\n",
    "text1"
   ]
  },
  {
   "cell_type": "code",
   "execution_count": 3,
   "id": "79753a4f",
   "metadata": {},
   "outputs": [
    {
     "data": {
      "text/plain": [
       "Gus is helping organize a developer conference on Applications of Natural Language Processing. He keeps organizing local Python meetups and several internal talks at his workplace."
      ]
     },
     "execution_count": 3,
     "metadata": {},
     "output_type": "execute_result"
    }
   ],
   "source": [
    "doc1 = nlp(text1)\n",
    "doc1"
   ]
  },
  {
   "cell_type": "code",
   "execution_count": 4,
   "id": "2fa3e54d",
   "metadata": {},
   "outputs": [
    {
     "name": "stdout",
     "output_type": "stream",
     "text": [
      "+--------------+--------------+\n",
      "|    Token     |    Lemma     |\n",
      "+--------------+--------------+\n",
      "|     Gus      |     Gus      |\n",
      "|   helping    |   helping    |\n",
      "|   organize   |   organize   |\n",
      "|  developer   |  developer   |\n",
      "|  conference  |  conference  |\n",
      "| Applications | Applications |\n",
      "|   Natural    |   Natural    |\n",
      "|   Language   |   Language   |\n",
      "|  Processing  |  Processing  |\n",
      "|    keeps     |     keep     |\n",
      "|  organizing  |   organize   |\n",
      "|    local     |    local     |\n",
      "|    Python    |    Python    |\n",
      "|   meetups    |    meetup    |\n",
      "|   internal   |   internal   |\n",
      "|    talks     |     talk     |\n",
      "|  workplace   |  workplace   |\n",
      "+--------------+--------------+\n"
     ]
    }
   ],
   "source": [
    "lst=[[token, token.lemma_] for token in doc1 if not (token.is_punct or token.is_stop)]\n",
    "header=['Token', 'Lemma']\n",
    "print(tb.tabulate(lst, headers=header,tablefmt='pretty'))"
   ]
  },
  {
   "cell_type": "code",
   "execution_count": 5,
   "id": "f96c76b6",
   "metadata": {},
   "outputs": [],
   "source": [
    "text2 = 'love loving loved loves lovable'\n",
    "doc2 = nlp(text2)"
   ]
  },
  {
   "cell_type": "code",
   "execution_count": 6,
   "id": "6dab5c7b",
   "metadata": {},
   "outputs": [
    {
     "name": "stdout",
     "output_type": "stream",
     "text": [
      "love love\n",
      "loving love\n",
      "loved love\n",
      "loves love\n",
      "lovable lovable\n"
     ]
    }
   ],
   "source": [
    "for token in doc2:\n",
    "    print(token, token.lemma_)"
   ]
  }
 ],
 "metadata": {
  "kernelspec": {
   "display_name": "Python 3 (ipykernel)",
   "language": "python",
   "name": "python3"
  },
  "language_info": {
   "codemirror_mode": {
    "name": "ipython",
    "version": 3
   },
   "file_extension": ".py",
   "mimetype": "text/x-python",
   "name": "python",
   "nbconvert_exporter": "python",
   "pygments_lexer": "ipython3",
   "version": "3.10.4"
  }
 },
 "nbformat": 4,
 "nbformat_minor": 5
}
